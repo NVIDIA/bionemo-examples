{
 "cells": [
  {
   "cell_type": "markdown",
   "metadata": {},
   "source": [
    "# Covalent Protein-Ligand Complex Prediction using Boltz-2 NIM and Visualization with Molstar\n",
    "Copyright (c) 2025, NVIDIA CORPORATION. Licensed under the Apache License, Version 2.0 (the \"License\") you may not use this file except in compliance with the License. You may obtain a copy of the License at http://www.apache.org/licenses/LICENSE-2.0 Unless required by applicable law or agreed to in writing, software distributed under the License is distributed on an \"AS IS\" BASIS, WITHOUT WARRANTIES OR CONDITIONS OF ANY KIND, either express or implied. See the License for the specific language governing permissions and limitations under the License.\n",
    "\n",
    "## Prerequisites\n",
    "This notebook leverages NVIDIA BioNeMo Boltz-2 NIM hosted locally. It is also possible to use NVIDIA-hosted NIM to run this workflow.  \n",
    "Visit https://build.nvidia.com for instructions to run self-hosted or NVIDIA-hosted NIMs and system requirements for individual NIMs.\n",
    "\n",
    "### Steps to launch the Boltz-2 NIM locally\n",
    "Execute the following code snippets in a bash terminal.\n",
    "```bash\n",
    "docker login nvcr.io\n",
    "Username: $oauthtoken\n",
    "Password: <PASTE_API_KEY_HERE>\n",
    "\n",
    "export NGC_API_KEY=<your personal NGC key>\n",
    "export LOCAL_NIM_CACHE=~/.cache/nim\n",
    "mkdir -p $LOCAL_NIM_CACHE\n",
    "\n",
    "docker run -it \\\n",
    "    --runtime=nvidia \\\n",
    "    -p 8000:8000 \\\n",
    "    -e NGC_API_KEY \\\n",
    "    -v \"$LOCAL_NIM_CACHE\":/opt/nim/.cache \\\n",
    "    nvcr.io/nim/mit/boltz2:1.1.0\n",
    "```\n",
    "\n",
    "--- \n",
    "\n",
    "__This notebook demonstrates covalent protein-ligand complex prediction using Boltz-2 NIM.__\n",
    "\n",
    "### Example Details \n",
    "- **Source**: Human KRAS G12C bound to a covalent ligand (https://www.rcsb.org/structure/8DNJ)\n",
    "- **Protein**: Ras-like protein (169 residues)\n",
    "- **Ligand**: U4U (Chemical Component Dictionary code)\n",
    "- **Covalent Bond**: Protein Chain A, Cys12 SG ↔ LIG C22"
   ]
  },
  {
   "cell_type": "markdown",
   "metadata": {},
   "source": [
    "## Setup and Imports"
   ]
  },
  {
   "cell_type": "code",
   "execution_count": 1,
   "metadata": {},
   "outputs": [
    {
     "name": "stdout",
     "output_type": "stream",
     "text": [
      "✅ httpx is already installed\n",
      "✅ ipymolstar is already installed\n",
      "\n",
      "🎉 All packages ready!\n"
     ]
    }
   ],
   "source": [
    "# Install required packages\n",
    "import subprocess\n",
    "import sys\n",
    "\n",
    "def install_package(package):\n",
    "    try:\n",
    "        __import__(package.split('==')[0] if '==' in package else package)\n",
    "        print(f\"✅ {package} is already installed\")\n",
    "    except ImportError:\n",
    "        print(f\"📦 Installing {package}...\")\n",
    "        subprocess.check_call([sys.executable, \"-m\", \"pip\", \"install\", package])\n",
    "        print(f\"✅ {package} installed successfully\")\n",
    "\n",
    "# Install required packages\n",
    "install_package(\"httpx\")\n",
    "install_package(\"ipymolstar\")\n",
    "print(\"\\n🎉 All packages ready!\")"
   ]
  },
  {
   "cell_type": "code",
   "execution_count": 2,
   "metadata": {},
   "outputs": [
    {
     "name": "stdout",
     "output_type": "stream",
     "text": [
      "All imports successful!\n"
     ]
    }
   ],
   "source": [
    "import asyncio\n",
    "import json\n",
    "import os\n",
    "import time\n",
    "from pathlib import Path\n",
    "from datetime import datetime\n",
    "from typing import Dict, Any, Optional\n",
    "import httpx\n",
    "from ipymolstar import PDBeMolstar\n",
    "from IPython.display import display, HTML\n",
    "\n",
    "print(\"All imports successful!\")"
   ]
  },
  {
   "cell_type": "markdown",
   "metadata": {},
   "source": [
    "### Configuration"
   ]
  },
  {
   "cell_type": "code",
   "execution_count": 3,
   "metadata": {},
   "outputs": [
    {
     "name": "stdout",
     "output_type": "stream",
     "text": [
      "Boltz-2 Endpoint: http://localhost:8000/biology/mit/boltz2/predict\n",
      "Protein sequence length: 168 residues\n"
     ]
    }
   ],
   "source": [
    "# Local Boltz-2 NIM endpoint\n",
    "BOLTZ2_URL = \"http://localhost:8000/biology/mit/boltz2/predict\"\n",
    "HEALTH_URL = \"http://localhost:8000/v1/health/live\"\n",
    "\n",
    "# Protein sequence from covalent.txt\n",
    "PROTEIN_SEQUENCE = \"MTEYKLVVVGACGVGKSALTIQLIQNHFVDEYDPTIEDSYRKQVVIDGETCLLDILDTAGQEEYSAMRDQYMRTGEGFLCVFAINNTKSFEDIHHYREQIKRVKDSEDVPMVLVGNKCDLPSRTVDTKQAQDLARSYGIPFIETSAKTRQGVDDAFYTLVREIRKHKE\"\n",
    "\n",
    "print(f\"Boltz-2 Endpoint: {BOLTZ2_URL}\")\n",
    "print(f\"Protein sequence length: {len(PROTEIN_SEQUENCE)} residues\")"
   ]
  },
  {
   "cell_type": "markdown",
   "metadata": {},
   "source": [
    "### Health Check"
   ]
  },
  {
   "cell_type": "code",
   "execution_count": 4,
   "metadata": {},
   "outputs": [
    {
     "name": "stdout",
     "output_type": "stream",
     "text": [
      "✅ Boltz-2 NIM is running and accessible\n"
     ]
    }
   ],
   "source": [
    "async def check_nim_health():\n",
    "    try:\n",
    "        async with httpx.AsyncClient(timeout=10.0) as client:\n",
    "            response = await client.get(HEALTH_URL)\n",
    "            if response.status_code == 200:\n",
    "                print(\"✅ Boltz-2 NIM is running and accessible\")\n",
    "                return True\n",
    "            else:\n",
    "                print(f\"⚠️ Health check returned status {response.status_code}\")\n",
    "                return False\n",
    "    except Exception as e:\n",
    "        print(f\"❌ Cannot connect to Boltz-2 NIM: {e}\")\n",
    "        return False\n",
    "\n",
    "nim_healthy = await check_nim_health()"
   ]
  },
  {
   "cell_type": "markdown",
   "metadata": {},
   "source": [
    "### API Client Functions"
   ]
  },
  {
   "cell_type": "code",
   "execution_count": 5,
   "metadata": {},
   "outputs": [
    {
     "name": "stdout",
     "output_type": "stream",
     "text": [
      "API client functions defined!\n"
     ]
    }
   ],
   "source": [
    "async def make_boltz2_prediction(request_data: Dict[str, Any], timeout: int = 900) -> Optional[Dict]:\n",
    "    headers = {\"Content-Type\": \"application/json\"}\n",
    "    \n",
    "    async with httpx.AsyncClient(timeout=timeout) as client:\n",
    "        print(f\"🚀 Making prediction request...\")\n",
    "        \n",
    "        try:\n",
    "            start_time = time.time()\n",
    "            response = await client.post(BOLTZ2_URL, json=request_data, headers=headers)\n",
    "            duration = time.time() - start_time\n",
    "            \n",
    "            print(f\"📡 Response received in {duration:.2f} seconds\")\n",
    "            print(f\"📊 Status code: {response.status_code}\")\n",
    "            \n",
    "            if response.status_code == 200:\n",
    "                print(\"✅ Prediction successful!\")\n",
    "                return response.json()\n",
    "            else:\n",
    "                print(f\"❌ Prediction failed: {response.status_code}\")\n",
    "                print(f\"Error: {response.text}\")\n",
    "                return None\n",
    "        except Exception as e:\n",
    "            print(f\"❌ Request failed: {e}\")\n",
    "            return None\n",
    "\n",
    "print(\"API client functions defined!\")"
   ]
  },
  {
   "cell_type": "markdown",
   "metadata": {},
   "source": [
    "### Molstar Visualization Functions"
   ]
  },
  {
   "cell_type": "code",
   "execution_count": 6,
   "metadata": {},
   "outputs": [
    {
     "name": "stdout",
     "output_type": "stream",
     "text": [
      "Molstar visualization functions defined!\n"
     ]
    }
   ],
   "source": [
    "def create_molstar_viewer(structure_data: str, title: str = \"Covalent Complex\", \n",
    "                         width=\"900px\", height=\"600px\"):\n",
    "    \"\"\"\n",
    "    Create Molstar viewer for covalent complex visualization.\n",
    "    \n",
    "    Args:\n",
    "        structure_data: mmCIF structure data as string\n",
    "        title: Title for the visualization\n",
    "        width: Viewer width in pixels\n",
    "        height: Viewer height in pixels\n",
    "    \n",
    "    Returns:\n",
    "        PDBeMolstar viewer widget\n",
    "    \"\"\"\n",
    "    # Save structure data to temporary file for Molstar\n",
    "    temp_file = f\"temp_structure_{int(time.time())}.cif\"\n",
    "    with open(temp_file, 'w') as f:\n",
    "        f.write(structure_data)\n",
    "    \n",
    "    # Read as binary for Molstar\n",
    "    with open(temp_file, 'rb') as f:\n",
    "        structure_bytes = f.read()\n",
    "    \n",
    "    # Clean up temp file\n",
    "    os.remove(temp_file)\n",
    "    \n",
    "    # Create custom data for Molstar\n",
    "    custom_data = {\n",
    "        'data': structure_bytes,\n",
    "        'format': 'cif',\n",
    "        'binary': False,\n",
    "    }\n",
    "    \n",
    "    # Create Molstar viewer with enhanced settings\n",
    "    viewer = PDBeMolstar(\n",
    "        bg_color=\"black\",\n",
    "        custom_data=custom_data,\n",
    "        theme='dark',\n",
    "        hide_water=True,\n",
    "        hide_carbs=True,\n",
    "        hide_non_standard=False,\n",
    "        width=width,\n",
    "        height=height,\n",
    "        hide_controls_icon=False,\n",
    "        hide_expand_icon=False,\n",
    "        hide_settings_icon=False,\n",
    "        hide_selection_icon=False,\n",
    "        hide_animation_icon=False\n",
    "    )\n",
    "    \n",
    "    return viewer\n",
    "\n",
    "def create_molstar_viewer_minimal(structure_data: str, title: str = \"Minimal View\", \n",
    "                                 width=\"900px\", height=\"600px\"):\n",
    "    \"\"\"\n",
    "    Create minimal Molstar viewer with hidden controls for clean presentation.\n",
    "    \"\"\"\n",
    "    # Save structure data to temporary file\n",
    "    temp_file = f\"temp_structure_minimal_{int(time.time())}.cif\"\n",
    "    with open(temp_file, 'w') as f:\n",
    "        f.write(structure_data)\n",
    "    \n",
    "    # Read as binary\n",
    "    with open(temp_file, 'rb') as f:\n",
    "        structure_bytes = f.read()\n",
    "    \n",
    "    # Clean up\n",
    "    os.remove(temp_file)\n",
    "    \n",
    "    custom_data = {\n",
    "        'data': structure_bytes,\n",
    "        'format': 'cif',\n",
    "        'binary': False,\n",
    "    }\n",
    "    \n",
    "    # Minimal viewer for clean presentation\n",
    "    viewer = PDBeMolstar(\n",
    "        custom_data=custom_data,\n",
    "        theme='light',\n",
    "        hide_water=True,\n",
    "        hide_carbs=True,\n",
    "        width=width,\n",
    "        height=height,\n",
    "        hide_controls_icon=True,\n",
    "        hide_expand_icon=True,\n",
    "        hide_settings_icon=True,\n",
    "        hide_selection_icon=True,\n",
    "        hide_animation_icon=True\n",
    "    )\n",
    "    \n",
    "    return viewer\n",
    "\n",
    "print(\"Molstar visualization functions defined!\")"
   ]
  },
  {
   "cell_type": "markdown",
   "metadata": {},
   "source": [
    "### Information Panels"
   ]
  },
  {
   "cell_type": "code",
   "execution_count": 7,
   "metadata": {},
   "outputs": [
    {
     "name": "stdout",
     "output_type": "stream",
     "text": [
      "Information panel functions defined!\n"
     ]
    }
   ],
   "source": [
    "def create_covalent_analysis_panel():\n",
    "    \"\"\"Create analysis panel for covalent interactions.\"\"\"\n",
    "    return \"\"\"\n",
    "    <div style='background: #f8f9fa; border: 2px solid #28a745; border-radius: 8px; padding: 20px; margin: 15px 0; font-family: Arial, sans-serif;'>\n",
    "        <h4 style='margin-top: 0; color: #28a745; text-align: center;'>🔗 Covalent Complex Analysis Guide</h4>\n",
    "        <div style='display: grid; grid-template-columns: repeat(3, 1fr); gap: 15px; font-size: 14px;'>\n",
    "            <div style='background: black; padding: 12px; border-radius: 5px; border-left: 4px solid #dc3545;'>\n",
    "                <h5 style='margin-top: 0; color: #dc3545;'>🎯 Binding Site</h5>\n",
    "                <p style='margin: 0; line-height: 1.5;'>\n",
    "                    <strong>Residue:</strong> Cys12<br>\n",
    "                    <strong>Atom:</strong> SG (Sulfur)<br>\n",
    "                    <strong>Role:</strong> Nucleophilic attack site\n",
    "                </p>\n",
    "            </div>\n",
    "            <div style='background: black; padding: 12px; border-radius: 5px; border-left: 4px solid #007bff;'>\n",
    "                <h5 style='margin-top: 0; color: #007bff;'>💊 Ligand</h5>\n",
    "                <p style='margin: 0; line-height: 1.5;'>\n",
    "                    <strong>Code:</strong> U4U<br>\n",
    "                    <strong>Atom:</strong> C22 (Carbon)<br>\n",
    "                    <strong>Role:</strong> Electrophilic center\n",
    "                </p>\n",
    "            </div>\n",
    "            <div style='background: black; padding: 12px; border-radius: 5px; border-left: 4px solid #ffc107;'>\n",
    "                <h5 style='margin-top: 0; color: #ffc107;'>⚡ Bond</h5>\n",
    "                <p style='margin: 0; line-height: 1.5;'>\n",
    "                    <strong>Type:</strong> Covalent C-S<br>\n",
    "                    <strong>Mechanism:</strong> Nucleophilic substitution<br>\n",
    "                    <strong>Strength:</strong> Irreversible\n",
    "                </p>\n",
    "            </div>\n",
    "        </div>\n",
    "        <div style='margin-top: 15px; padding: 12px; background: black; border-radius: 5px; text-align: center;'>\n",
    "            <strong>🔍 Analysis Tips:</strong> Look for the covalent bond between Cys12 and the ligand. \n",
    "            Use Molstar's measurement tools to analyze bond lengths and angles.\n",
    "        </div>\n",
    "    </div>\n",
    "    \"\"\"\n",
    "\n",
    "print(\"Information panel functions defined!\")"
   ]
  },
  {
   "cell_type": "markdown",
   "metadata": {},
   "source": [
    "## Covalent Complex Request Setup"
   ]
  },
  {
   "cell_type": "code",
   "execution_count": 8,
   "metadata": {},
   "outputs": [
    {
     "name": "stdout",
     "output_type": "stream",
     "text": [
      "🧬 Covalent Complex Setup\n",
      "Protein: Ras-like (168 residues)\n",
      "Ligand: U4U (CCD code)\n",
      "Covalent bond: Cys12 SG ↔ LIG C22\n",
      "Parameters: 4 recycling, 75 sampling\n"
     ]
    }
   ],
   "source": [
    "# Covalent complex request payload\n",
    "covalent_request_data = {\n",
    "    \"polymers\": [\n",
    "        {\n",
    "            \"id\": \"A\",\n",
    "            \"molecule_type\": \"protein\",\n",
    "            \"sequence\": PROTEIN_SEQUENCE,\n",
    "            \"cyclic\": False,\n",
    "            \"modifications\": []\n",
    "        }\n",
    "    ],\n",
    "    \"ligands\": [\n",
    "        {\n",
    "            \"id\": \"LIG\",\n",
    "            \"ccd\": \"U4U\"\n",
    "        }\n",
    "    ],\n",
    "    \"constraints\": [\n",
    "        {\n",
    "            \"constraint_type\": \"bond\",\n",
    "            \"atoms\": [\n",
    "                {\n",
    "                    \"id\": \"A\",\n",
    "                    \"residue_index\": 12,\n",
    "                    \"atom_name\": \"SG\"\n",
    "                },\n",
    "                {\n",
    "                    \"id\": \"LIG\",\n",
    "                    \"residue_index\": 1,\n",
    "                    \"atom_name\": \"C22\"\n",
    "                }\n",
    "            ]\n",
    "        }\n",
    "    ],\n",
    "    \"recycling_steps\": 4,\n",
    "    \"sampling_steps\": 75,\n",
    "    \"diffusion_samples\": 1,\n",
    "    \"step_scale\": 1.4,\n",
    "    \"without_potentials\": False,\n",
    "    \"output_format\": \"mmcif\",\n",
    "    \"concatenate_msas\": False\n",
    "}\n",
    "\n",
    "print(\"🧬 Covalent Complex Setup\")\n",
    "print(f\"Protein: Ras-like ({len(PROTEIN_SEQUENCE)} residues)\")\n",
    "print(f\"Ligand: U4U (CCD code)\")\n",
    "print(f\"Covalent bond: Cys12 SG ↔ LIG C22\")\n",
    "print(f\"Parameters: {covalent_request_data['recycling_steps']} recycling, {covalent_request_data['sampling_steps']} sampling\")"
   ]
  },
  {
   "cell_type": "markdown",
   "metadata": {},
   "source": [
    "## Run Prediction"
   ]
  },
  {
   "cell_type": "code",
   "execution_count": 9,
   "metadata": {},
   "outputs": [
    {
     "name": "stdout",
     "output_type": "stream",
     "text": [
      "🎯 Starting covalent complex prediction at 2025-06-05 11:38:28.979915\n",
      "🚀 Making prediction request...\n",
      "📡 Response received in 7.19 seconds\n",
      "📊 Status code: 200\n",
      "✅ Prediction successful!\n",
      "💾 Results saved to: covalent_molstar_20250605_113836.json\n",
      "💾 Structure 1 saved to: covalent_molstar_structure_1_20250605_113836.cif\n"
     ]
    }
   ],
   "source": [
    "if nim_healthy:\n",
    "    print(f\"🎯 Starting covalent complex prediction at {datetime.now()}\")\n",
    "    \n",
    "    covalent_result = await make_boltz2_prediction(covalent_request_data, timeout=900)\n",
    "    \n",
    "    if covalent_result:\n",
    "        timestamp = datetime.now().strftime(\"%Y%m%d_%H%M%S\")\n",
    "        output_file = f\"covalent_molstar_{timestamp}.json\"\n",
    "        \n",
    "        with open(output_file, 'w') as f:\n",
    "            json.dump(covalent_result, f, indent=2)\n",
    "        \n",
    "        print(f\"💾 Results saved to: {output_file}\")\n",
    "        \n",
    "        # Save structure files\n",
    "        structure_files = []\n",
    "        if 'structures' in covalent_result:\n",
    "            for i, structure in enumerate(covalent_result['structures']):\n",
    "                if structure.get('format') == 'mmcif':\n",
    "                    structure_file = f\"covalent_molstar_structure_{i+1}_{timestamp}.cif\"\n",
    "                    with open(structure_file, 'w') as f:\n",
    "                        f.write(structure['structure'])\n",
    "                    structure_files.append(structure_file)\n",
    "                    print(f\"💾 Structure {i+1} saved to: {structure_file}\")\n",
    "    else:\n",
    "        print(\"❌ Prediction failed\")\n",
    "        covalent_result = None\n",
    "else:\n",
    "    print(\"❌ NIM not accessible\")\n",
    "    covalent_result = None"
   ]
  },
  {
   "cell_type": "markdown",
   "metadata": {},
   "source": [
    "## 🌟 Visualize with Molstar\n",
    "\n",
    "Let's visualize the resulting .cif file(s) using MolStar:"
   ]
  },
  {
   "cell_type": "code",
   "execution_count": 10,
   "metadata": {},
   "outputs": [
    {
     "name": "stdout",
     "output_type": "stream",
     "text": [
      "🌟 Creating Molstar visualizations...\n"
     ]
    },
    {
     "data": {
      "text/html": [
       "\n",
       "    <div style='background: #f8f9fa; border: 2px solid #28a745; border-radius: 8px; padding: 20px; margin: 15px 0; font-family: Arial, sans-serif;'>\n",
       "        <h4 style='margin-top: 0; color: #28a745; text-align: center;'>🔗 Covalent Complex Analysis Guide</h4>\n",
       "        <div style='display: grid; grid-template-columns: repeat(3, 1fr); gap: 15px; font-size: 14px;'>\n",
       "            <div style='background: black; padding: 12px; border-radius: 5px; border-left: 4px solid #dc3545;'>\n",
       "                <h5 style='margin-top: 0; color: #dc3545;'>🎯 Binding Site</h5>\n",
       "                <p style='margin: 0; line-height: 1.5;'>\n",
       "                    <strong>Residue:</strong> Cys12<br>\n",
       "                    <strong>Atom:</strong> SG (Sulfur)<br>\n",
       "                    <strong>Role:</strong> Nucleophilic attack site\n",
       "                </p>\n",
       "            </div>\n",
       "            <div style='background: black; padding: 12px; border-radius: 5px; border-left: 4px solid #007bff;'>\n",
       "                <h5 style='margin-top: 0; color: #007bff;'>💊 Ligand</h5>\n",
       "                <p style='margin: 0; line-height: 1.5;'>\n",
       "                    <strong>Code:</strong> U4U<br>\n",
       "                    <strong>Atom:</strong> C22 (Carbon)<br>\n",
       "                    <strong>Role:</strong> Electrophilic center\n",
       "                </p>\n",
       "            </div>\n",
       "            <div style='background: black; padding: 12px; border-radius: 5px; border-left: 4px solid #ffc107;'>\n",
       "                <h5 style='margin-top: 0; color: #ffc107;'>⚡ Bond</h5>\n",
       "                <p style='margin: 0; line-height: 1.5;'>\n",
       "                    <strong>Type:</strong> Covalent C-S<br>\n",
       "                    <strong>Mechanism:</strong> Nucleophilic substitution<br>\n",
       "                    <strong>Strength:</strong> Irreversible\n",
       "                </p>\n",
       "            </div>\n",
       "        </div>\n",
       "        <div style='margin-top: 15px; padding: 12px; background: black; border-radius: 5px; text-align: center;'>\n",
       "            <strong>🔍 Analysis Tips:</strong> Look for the covalent bond between Cys12 and the ligand. \n",
       "            Use Molstar's measurement tools to analyze bond lengths and angles.\n",
       "        </div>\n",
       "    </div>\n",
       "    "
      ],
      "text/plain": [
       "<IPython.core.display.HTML object>"
      ]
     },
     "metadata": {},
     "output_type": "display_data"
    },
    {
     "name": "stdout",
     "output_type": "stream",
     "text": [
      "\n",
      "🌟 Molstar Visualization 1:\n"
     ]
    },
    {
     "data": {
      "application/vnd.jupyter.widget-view+json": {
       "model_id": "6cdcfadc80724873b629ea3a99ba33ca",
       "version_major": 2,
       "version_minor": 1
      },
      "text/plain": [
       "PDBeMolstar(bg_color='black', custom_data={'data': b\"data_model\\n_entry.id model\\n_struct.entry_id model\\n_str…"
      ]
     },
     "metadata": {},
     "output_type": "display_data"
    }
   ],
   "source": [
    "if covalent_result and 'structures' in covalent_result:\n",
    "    print(\"🌟 Creating Molstar visualizations...\")\n",
    "    \n",
    "   \n",
    "    # Display covalent analysis panel\n",
    "    display(HTML(create_covalent_analysis_panel()))\n",
    "    \n",
    "    for i, structure in enumerate(covalent_result['structures']):\n",
    "        if structure.get('format') == 'mmcif':\n",
    "            structure_data = structure['structure']\n",
    "            \n",
    "            # Get confidence info\n",
    "            confidence_info = \"\"\n",
    "            if 'confidence_scores' in covalent_result:\n",
    "                avg_conf = sum(covalent_result['confidence_scores']) / len(covalent_result['confidence_scores'])\n",
    "                confidence_info = f\" (Confidence: {avg_conf:.3f})\"\n",
    "            \n",
    "            title = f\"Molstar: Ras + U4U Covalent Complex{confidence_info}\"\n",
    "            \n",
    "            print(f\"\\n🌟 Molstar Visualization {i+1}:\")\n",
    "            \n",
    "            # Create Molstar viewer with full controls\n",
    "            viewer = create_molstar_viewer(structure_data, title, width=\"1000px\", height=\"700px\")\n",
    "            \n",
    "                        \n",
    "            display(viewer)\n",
    "            \n",
    "\n",
    "else:\n",
    "    print(\"❌ No structures available for Molstar visualization\")"
   ]
  },
  {
   "cell_type": "markdown",
   "metadata": {},
   "source": [
    "## Summary\n",
    "\n",
    "This notebook demonstrates comprehensive Boltz-2 NIM usage with interactive visualization:\n",
    "\n",
    "### ✅ **Key Features:**\n",
    "1. **Local NIM Integration** - Direct connection to your local Boltz-2 instance\n",
    "2. **Health Checking** - Verifies NIM availability before making requests\n",
    "3. **Interactive 3D Visualization** - py3Dmol integration for structure viewing\n",
    "4. **Multiple Visualization Styles** - Cartoon, stick, sphere, and line representations\n",
    "5. **Protein-Ligand Complex Support** - Specialized visualization for complexes\n",
    "6. **Confidence Score Analysis** - Visual and statistical confidence assessment\n",
    "7. **File Output** - Saves both JSON results and individual mmCIF structure files\n",
    "8. **Parameter Flexibility** - Easy to adjust prediction quality vs. speed\n",
    "\n",
    "### 🎨 **Visualization Features:**\n",
    "- **Interactive Controls**: Mouse rotation, zoom, pan\n",
    "- **Color Schemes**: Spectrum, chain, residue, atom coloring\n",
    "- **Style Options**: Cartoon, stick, sphere, line representations\n",
    "- **Complex Visualization**: Protein-ligand interaction highlighting\n",
    "- **Confidence Mapping**: Visual confidence score representation\n",
    "\n",
    "### �� **API Parameters:**\n",
    "- **recycling_steps**: 1-6 (affects accuracy, default: 3)\n",
    "- **sampling_steps**: 10-1000 (affects quality, default: 50)\n",
    "- **diffusion_samples**: 1-5 (multiple predictions, default: 1)\n",
    "- **step_scale**: 0.5-5.0 (temperature, default: 1.638)\n",
    "\n",
    "### 📁 **Output Files:**\n",
    "- `boltz2_prediction_YYYYMMDD_HHMMSS.json` - Complete API response\n",
    "- `boltz2_structure_N_YYYYMMDD_HHMMSS.cif` - Individual structure files\n",
    "\n",
    "### 🚀 **Next Steps:**\n",
    "1. Experiment with different protein sequences\n",
    "2. Try various ligands using SMILES notation\n",
    "3. Adjust parameters for your speed/quality needs\n",
    "4. Export structures for external analysis\n",
    "5. Compare multiple predictions side-by-side\n",
    "6. Analyze confidence scores for structure quality assessment"
   ]
  }
 ],
 "metadata": {
  "kernelspec": {
   "display_name": "Python 3 (ipykernel)",
   "language": "python",
   "name": "python3"
  },
  "language_info": {
   "codemirror_mode": {
    "name": "ipython",
    "version": 3
   },
   "file_extension": ".py",
   "mimetype": "text/x-python",
   "name": "python",
   "nbconvert_exporter": "python",
   "pygments_lexer": "ipython3",
   "version": "3.10.14"
  }
 },
 "nbformat": 4,
 "nbformat_minor": 4
}
