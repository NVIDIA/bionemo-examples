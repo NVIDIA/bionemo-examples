{
 "cells": [
  {
   "cell_type": "markdown",
   "metadata": {
    "vscode": {
     "languageId": "raw"
    }
   },
   "source": [
    "# 🧬 Boltz-2 Python Client Demo\n",
    "\n",
    "\n",
    "\n",
    "Copyright (c) 2025, NVIDIA CORPORATION. All rights reserved.\n",
    "\n",
    "\n",
    "\n",
    "This notebook demonstrates the **boltz2-python-client** package - a comprehensive Python client for NVIDIA's Boltz-2 protein structure prediction service.\n",
    "\n",
    "## 📦 Installation\n",
    "\n",
    "```bash\n",
    "pip install boltz2-python-client\n",
    "```\n",
    "\n",
    "## 🎯 What this package provides:\n",
    "\n",
    "- **Protein structure prediction** from amino acid sequences\n",
    "- **Protein-ligand complex modeling** (SMILES/CCD ligands) \n",
    "- **Covalent complex prediction** with bond constraints\n",
    "- **DNA-protein interaction modeling**\n",
    "- **MSA-guided predictions** for improved accuracy\n",
    "- **Rich CLI interface** with progress bars\n",
    "- **Both local and NVIDIA hosted endpoint** support\n"
   ]
  },
  {
   "cell_type": "markdown",
   "metadata": {
    "vscode": {
     "languageId": "raw"
    }
   },
   "source": [
    "## 🖥️ Command Line Interface Examples\n",
    "\n",
    "The package provides a rich CLI with the `boltz2` command:\n"
   ]
  },
  {
   "cell_type": "code",
   "execution_count": 1,
   "metadata": {},
   "outputs": [
    {
     "name": "stdout",
     "output_type": "stream",
     "text": [
      "Usage: boltz2 [OPTIONS] COMMAND [ARGS]...\n",
      "\n",
      "  Boltz-2 Python Client CLI\n",
      "\n",
      "  Supports both local deployments and NVIDIA hosted endpoints.\n",
      "\n",
      "  Examples:\n",
      "\n",
      "  # Local endpoint boltz2 --base-url http://localhost:8000 protein\n",
      "  \"MKTVRQERLK...\"\n",
      "\n",
      "  # NVIDIA hosted endpoint   boltz2 --base-url https://health.api.nvidia.com\n",
      "  --endpoint-type nvidia_hosted --api-key YOUR_KEY protein \"MKTVRQERLK...\"\n",
      "\n",
      "  # Using environment variable for API key export NVIDIA_API_KEY=your_api_key\n",
      "  boltz2 --base-url https://health.api.nvidia.com --endpoint-type\n",
      "  nvidia_hosted protein \"MKTVRQERLK...\"\n",
      "\n",
      "Options:\n",
      "  --base-url TEXT                 Service base URL\n",
      "  --api-key TEXT                  API key for NVIDIA hosted endpoints (or set\n",
      "                                  NVIDIA_API_KEY env var)\n",
      "  --endpoint-type [local|nvidia_hosted]\n",
      "                                  Type of endpoint: local or nvidia_hosted\n",
      "  --timeout FLOAT                 Request timeout in seconds\n",
      "  --poll-seconds INTEGER          Polling interval for NVIDIA hosted endpoints\n",
      "  -v, --verbose                   Enable verbose output\n",
      "  --help                          Show this message and exit.\n",
      "\n",
      "Commands:\n",
      "  advanced     Run prediction with advanced parameters from JSON...\n",
      "  covalent     Predict covalent complex structure with flexible bond...\n",
      "  dna-protein  Predict DNA-protein complex structure.\n",
      "  examples     Show example configurations and usage patterns.\n",
      "  health       Check the health status of the Boltz-2 service.\n",
      "  ligand       Predict protein-ligand complex structure.\n",
      "  metadata     Get service metadata and model information.\n",
      "  protein      Predict protein structure with optional MSA guidance.\n",
      "  screen       Run virtual screening campaign against a protein target.\n",
      "  yaml         Run prediction from YAML configuration file (official...\n"
     ]
    }
   ],
   "source": [
    "# Check available commands\n",
    "!boltz2 --help\n"
   ]
  },
  {
   "cell_type": "code",
   "execution_count": 2,
   "metadata": {},
   "outputs": [
    {
     "name": "stdout",
     "output_type": "stream",
     "text": [
      "\u001b[2K\u001b[32m✅ Service is healthy \u001b[0m\u001b[1;32m(\u001b[0m\u001b[32mStatus: healthy\u001b[0m\u001b[1;32m)\u001b[0m\n",
      "\u001b[2Km⠋\u001b[0m\u001b[32m \u001b[0m\u001b[32mChecking service health...\u001b[0m\n",
      "\u001b[?25h"
     ]
    }
   ],
   "source": [
    "# 6. Health check\n",
    "!boltz2 health\n"
   ]
  },
  {
   "cell_type": "code",
   "execution_count": 3,
   "metadata": {},
   "outputs": [
    {
     "name": "stdout",
     "output_type": "stream",
     "text": [
      "\u001b[34mℹ️ Predicting structure for protein sequence \u001b[0m\u001b[1;34m(\u001b[0m\u001b[34mlength: \u001b[0m\u001b[1;36m65\u001b[0m\u001b[1;34m)\u001b[0m\n",
      "\u001b[34mℹ️ Parameters: \u001b[0m\u001b[33mrecycling_steps\u001b[0m\u001b[34m=\u001b[0m\u001b[1;36m3\u001b[0m\u001b[34m, \u001b[0m\u001b[33msampling_steps\u001b[0m\u001b[34m=\u001b[0m\u001b[1;36m50\u001b[0m\n",
      "\u001b[34mℹ️             \u001b[0m\u001b[33mdiffusion_samples\u001b[0m\u001b[34m=\u001b[0m\u001b[1;36m1\u001b[0m\u001b[34m, \u001b[0m\u001b[33mstep_scale\u001b[0m\u001b[34m=\u001b[0m\u001b[1;36m1\u001b[0m\u001b[1;36m.638\u001b[0m\n",
      "\u001b[2K\u001b[32m⠼\u001b[0m Prediction completed! \u001b[33m0:00:06\u001b[0m0:06\u001b[0m\n",
      "\u001b[?25h\u001b[32m✅ Prediction completed successfully!\u001b[0m\n",
      "\u001b[34mℹ️ Generated \u001b[0m\u001b[1;36m1\u001b[0m\u001b[34m \u001b[0m\u001b[1;35mstructure\u001b[0m\u001b[1;34m(\u001b[0m\u001b[34ms\u001b[0m\u001b[1;34m)\u001b[0m\n",
      "\u001b[34mℹ️ Average confidence: \u001b[0m\u001b[1;36m0.939\u001b[0m\n",
      "\u001b[34mℹ️ Structures saved to: .\u001b[0m\n"
     ]
    }
   ],
   "source": [
    "# 1. Basic protein structure prediction (local endpoint)\n",
    "!boltz2 protein \"MKTVRQERLKSIVRILERSKEPVSGAQLAEELSVSRQVIVQDIAYLRSLGYNIVATPRGYVLAGG\" \n"
   ]
  },
  {
   "cell_type": "code",
   "execution_count": 4,
   "metadata": {},
   "outputs": [
    {
     "name": "stdout",
     "output_type": "stream",
     "text": [
      "\u001b[34mℹ️ Predicting protein-ligand complex\u001b[0m\n",
      "\u001b[34mℹ️ Protein length: \u001b[0m\u001b[1;36m65\u001b[0m\n",
      "\u001b[34mℹ️ Ligand: \u001b[0m\u001b[1;35mCC\u001b[0m\u001b[1;34m(\u001b[0m\u001b[34m=O\u001b[0m\u001b[1;34m)\u001b[0m\u001b[33mOC1\u001b[0m\u001b[34m=\u001b[0m\u001b[35mCC\u001b[0m\u001b[34m=\u001b[0m\u001b[33mCC\u001b[0m\u001b[34m=\u001b[0m\u001b[1;35mC1C\u001b[0m\u001b[1;34m(\u001b[0m\u001b[34m=O\u001b[0m\u001b[1;34m)\u001b[0m\u001b[34mO\u001b[0m\n",
      "\u001b[2K\u001b[32m⠼\u001b[0m Prediction completed! \u001b[33m0:00:07\u001b[0m\n",
      "\u001b[?25h\u001b[32m✅ Complex prediction completed successfully!\u001b[0m\n",
      "\u001b[34mℹ️ Generated \u001b[0m\u001b[1;36m1\u001b[0m\u001b[34m \u001b[0m\u001b[1;35mstructure\u001b[0m\u001b[1;34m(\u001b[0m\u001b[34ms\u001b[0m\u001b[1;34m)\u001b[0m\n",
      "\u001b[34mℹ️ Average confidence: \u001b[0m\u001b[1;36m0.866\u001b[0m\n"
     ]
    }
   ],
   "source": [
    "# 2. Protein-ligand complex (aspirin)\n",
    "!boltz2 ligand \"MKTVRQERLKSIVRILERSKEPVSGAQLAEELSVSRQVIVQDIAYLRSLGYNIVATPRGYVLAGG\" \\\n",
    "    --smiles \"CC(=O)OC1=CC=CC=C1C(=O)O\" --no-save\n"
   ]
  },
  {
   "cell_type": "code",
   "execution_count": 5,
   "metadata": {},
   "outputs": [
    {
     "name": "stdout",
     "output_type": "stream",
     "text": [
      "\u001b[34mℹ️ Predicting covalent complex structure\u001b[0m\n",
      "\u001b[34mℹ️ Protein length: \u001b[0m\u001b[1;36m65\u001b[0m\n",
      "\u001b[34mℹ️ Ligand CCD: U4U\u001b[0m\n",
      "\u001b[34mℹ️ Bond constraints: \u001b[0m\u001b[1;36m1\u001b[0m\n",
      "\u001b[34mℹ️   \u001b[0m\u001b[1;36m1\u001b[0m\u001b[34m. \u001b[0m\u001b[1;92mA:12\u001b[0m\u001b[34m:SG ↔ LIG:\u001b[0m\u001b[1;92m1:C22\u001b[0m\n",
      "\u001b[2K\u001b[32m⠙\u001b[0m Prediction completed! \u001b[33m0:00:08\u001b[0m0:08\u001b[0mm\n",
      "\u001b[?25h\u001b[32m✅ Covalent complex prediction completed successfully!\u001b[0m\n",
      "\u001b[34mℹ️ Generated \u001b[0m\u001b[1;36m1\u001b[0m\u001b[34m \u001b[0m\u001b[1;35mstructure\u001b[0m\u001b[1;34m(\u001b[0m\u001b[34ms\u001b[0m\u001b[1;34m)\u001b[0m\n",
      "\u001b[34mℹ️ Average confidence: \u001b[0m\u001b[1;36m0.834\u001b[0m\n"
     ]
    }
   ],
   "source": [
    "# 3. Covalent complex with bond constraints\n",
    "!boltz2 covalent \"MKTVRQERLKSCVRILERSKEPVSGAQLAEELSVSRQVIVQDIAYLRSLGYNIVATPRGYVLAGG\" \\\n",
    "    --ccd U4U --bond A:12:SG:LIG:C22 --no-save\n"
   ]
  },
  {
   "cell_type": "code",
   "execution_count": 6,
   "metadata": {},
   "outputs": [
    {
     "name": "stdout",
     "output_type": "stream",
     "text": [
      "\u001b[34mℹ️ Predicting DNA-protein complex\u001b[0m\n",
      "\u001b[34mℹ️ Proteins: \u001b[0m\u001b[1;36m1\u001b[0m\u001b[34m sequences\u001b[0m\n",
      "\u001b[34mℹ️ DNA: \u001b[0m\u001b[1;36m1\u001b[0m\u001b[34m sequences\u001b[0m\n",
      "\u001b[34mℹ️ Concatenate MSAs: \u001b[0m\u001b[3;91mFalse\u001b[0m\n",
      "\u001b[2K\u001b[32m⠦\u001b[0m Prediction completed! \u001b[33m0:00:06\u001b[0m0:06\u001b[0m\n",
      "\u001b[?25h\u001b[32m✅ DNA-protein complex prediction completed successfully!\u001b[0m\n",
      "\u001b[34mℹ️ Generated \u001b[0m\u001b[1;36m1\u001b[0m\u001b[34m \u001b[0m\u001b[1;35mstructure\u001b[0m\u001b[1;34m(\u001b[0m\u001b[34ms\u001b[0m\u001b[1;34m)\u001b[0m\n",
      "\u001b[34mℹ️ Average confidence: \u001b[0m\u001b[1;36m0.862\u001b[0m\n"
     ]
    }
   ],
   "source": [
    "# 4. DNA-protein complex\n",
    "!boltz2 dna-protein \\\n",
    "    --protein-sequences \"MKTVRQERLKSIVRILERSKEPVSGAQLAEELSVSRQVIVQDIAYLRSLGYNIVATPRGYVLAGG\" \\\n",
    "    --dna-sequences \"ATCGATCGATCGATCG\" --no-save\n"
   ]
  },
  {
   "cell_type": "code",
   "execution_count": 7,
   "metadata": {},
   "outputs": [],
   "source": [
    "# 5. NVIDIA hosted endpoint with API key  \n",
    "# Note: Set NVIDIA_API_KEY environment variable first\n",
    "# !boltz2 --base-url https://health.api.nvidia.com --endpoint-type nvidia_hosted \\\n",
    "#     protein \"MKTVRQERLKSIVRILERSKEPVSGAQLAEELSVSRQVIVQDIAYLRSLGYNIVATPRGYVLAGG\" --no-save\n"
   ]
  },
  {
   "cell_type": "code",
   "execution_count": 8,
   "metadata": {},
   "outputs": [
    {
     "name": "stdout",
     "output_type": "stream",
     "text": [
      "\u001b[34mℹ️ Predicting protein-ligand complex\u001b[0m\n",
      "\u001b[34mℹ️ Protein length: \u001b[0m\u001b[1;36m273\u001b[0m\n",
      "\u001b[34mℹ️ Ligand: \u001b[0m\u001b[1;35mCC\u001b[0m\u001b[1;34m(\u001b[0m\u001b[34m=O\u001b[0m\u001b[1;34m)\u001b[0m\u001b[1;35mOc1ccccc1C\u001b[0m\u001b[1;34m(\u001b[0m\u001b[34m=O\u001b[0m\u001b[1;34m)\u001b[0m\u001b[34mO\u001b[0m\n",
      "\u001b[34mℹ️ Affinity prediction: ENABLED\u001b[0m\n",
      "\u001b[34mℹ️   - Sampling steps: \u001b[0m\u001b[1;36m200\u001b[0m\n",
      "\u001b[34mℹ️   - Diffusion samples: \u001b[0m\u001b[1;36m5\u001b[0m\n",
      "\u001b[34mℹ️   - MW correction: \u001b[0m\u001b[3;91mFalse\u001b[0m\n",
      "\u001b[2K\u001b[32m⠹\u001b[0m Prediction completed! \u001b[33m0:00:37\u001b[0m\n",
      "\u001b[?25h\u001b[32m✅ Complex prediction completed successfully!\u001b[0m\n",
      "\u001b[34mℹ️ Generated \u001b[0m\u001b[1;36m1\u001b[0m\u001b[34m \u001b[0m\u001b[1;35mstructure\u001b[0m\u001b[1;34m(\u001b[0m\u001b[34ms\u001b[0m\u001b[1;34m)\u001b[0m\n",
      "\u001b[34mℹ️ Average confidence: \u001b[0m\u001b[1;36m0.914\u001b[0m\n",
      "\n",
      "\u001b[1;36m📊 Affinity Prediction Results:\u001b[0m\n",
      "┏━━━━━━━━━━━━━━━━━━━━━┳━━━━━━━━━━━━┓\n",
      "┃\u001b[1;35m \u001b[0m\u001b[1;35mMetric             \u001b[0m\u001b[1;35m \u001b[0m┃\u001b[1;35m \u001b[0m\u001b[1;35mValue     \u001b[0m\u001b[1;35m \u001b[0m┃\n",
      "┡━━━━━━━━━━━━━━━━━━━━━╇━━━━━━━━━━━━┩\n",
      "│\u001b[36m \u001b[0m\u001b[36mpIC50              \u001b[0m\u001b[36m \u001b[0m│\u001b[32m \u001b[0m\u001b[32m5.418     \u001b[0m\u001b[32m \u001b[0m│\n",
      "│\u001b[36m \u001b[0m\u001b[36mlog(IC50)          \u001b[0m\u001b[36m \u001b[0m│\u001b[32m \u001b[0m\u001b[32m2.028     \u001b[0m\u001b[32m \u001b[0m│\n",
      "│\u001b[36m \u001b[0m\u001b[36mBinding Probability\u001b[0m\u001b[36m \u001b[0m│\u001b[32m \u001b[0m\u001b[32m0.229     \u001b[0m\u001b[32m \u001b[0m│\n",
      "│\u001b[36m \u001b[0m\u001b[36mEstimated IC50     \u001b[0m\u001b[36m \u001b[0m│\u001b[32m \u001b[0m\u001b[32m3818.76 nM\u001b[0m\u001b[32m \u001b[0m│\n",
      "└─────────────────────┴────────────┘\n",
      "\u001b[34mℹ️ Weak binding predicted \u001b[0m\u001b[1;34m(\u001b[0m\u001b[34m<\u001b[0m\u001b[1;36m50\u001b[0m\u001b[34m% probability\u001b[0m\u001b[1;34m)\u001b[0m\n",
      "\u001b[34mℹ️ Structure saved to: affinity_results/structure_0.cif\u001b[0m\n",
      "\u001b[34mℹ️ Affinity results saved to: affinity_results/affinity_results.json\u001b[0m\n"
     ]
    }
   ],
   "source": [
    "# Affinity Prediction Using CCD code (Chemical Component Dictionary)\n",
    "# !boltz2 ligand GMGLGYGSWEIDPKDLTFLKELGTGQFGVVKYGKWRGQYDVAIKMIKEGSMSEDEFIEEAKVMMNLSHEKLVQLYGVCTKQRPIFIITEYMANGCLLNYLREMRHRFQTQQLLEMCKDVCEAMEYLESKQFLHRDLAARNCLVNDQGVVKVSDFGLSRYVLDDEYTSSVGSKFPVRWSPPEVLMYSKFSSKSDIWAFGVLMWEIYSLGKMPYERFTNSETAEHIAQGLRLYRPHLASEKVYTIMYSCWHEKADERPTFKILLSNILDVMDEES \\\n",
    "#   --ccd Y7W \\\n",
    "#   --predict-affinity \\\n",
    "#   --output-dir ./affinity_results\n",
    "\n",
    "\n",
    "!boltz2 ligand GMGLGYGSWEIDPKDLTFLKELGTGQFGVVKYGKWRGQYDVAIKMIKEGSMSEDEFIEEAKVMMNLSHEKLVQLYGVCTKQRPIFIITEYMANGCLLNYLREMRHRFQTQQLLEMCKDVCEAMEYLESKQFLHRDLAARNCLVNDQGVVKVSDFGLSRYVLDDEYTSSVGSKFPVRWSPPEVLMYSKFSSKSDIWAFGVLMWEIYSLGKMPYERFTNSETAEHIAQGLRLYRPHLASEKVYTIMYSCWHEKADERPTFKILLSNILDVMDEES \\\n",
    "  --smiles \"CC(=O)Oc1ccccc1C(=O)O\" \\\n",
    "  --predict-affinity \\\n",
    "  --output-dir ./affinity_results"
   ]
  },
  {
   "cell_type": "markdown",
   "metadata": {
    "vscode": {
     "languageId": "raw"
    }
   },
   "source": [
    "## 🐍 Python API Examples\n",
    "\n",
    "The Python API provides both synchronous and asynchronous interfaces:\n"
   ]
  },
  {
   "cell_type": "code",
   "execution_count": 9,
   "metadata": {},
   "outputs": [
    {
     "name": "stdout",
     "output_type": "stream",
     "text": [
      "Ready to predict! 🚀\n"
     ]
    }
   ],
   "source": [
    "# Minimal imports - that's all you need!\n",
    "from boltz2_client import Boltz2Client\n",
    "print(f\"Ready to predict! 🚀\")\n"
   ]
  },
  {
   "cell_type": "markdown",
   "metadata": {},
   "source": [
    "### 🚀 Ultra-Minimal Usage Examples\n",
    "\n",
    "The absolute shortest ways to use boltz2-python-client:\n",
    "\n",
    "**Note**: In Jupyter notebooks, use the async client with `await`. The `Boltz2SyncClient` is for regular Python scripts only.\n"
   ]
  },
  {
   "cell_type": "code",
   "execution_count": 10,
   "metadata": {
    "scrolled": true
   },
   "outputs": [
    {
     "data": {
      "text/plain": [
       "PredictionResponse(structures=[StructureData(format='mmcif', structure=\"data_model\\n_entry.id model\\n_struct.entry_id model\\n_struct.pdbx_model_details .\\n_struct.pdbx_structure_determination_methodology computational\\n_struct.title .\\n_audit_conform.dict_location https://raw.githubusercontent.com/ihmwg/ModelCIF/80e1e22/dist/mmcif_ma.dic\\n_audit_conform.dict_name mmcif_ma.dic\\n_audit_conform.dict_version 1.4.7\\n#\\nloop_\\n_chem_comp.id\\n_chem_comp.type\\n_chem_comp.name\\n_chem_comp.formula\\n_chem_comp.formula_weight\\n_chem_comp.ma_provenance\\nALA 'L-peptide linking' . . . 'CCD Core'\\nARG 'L-peptide linking' . . . 'CCD Core'\\nASN 'L-peptide linking' . . . 'CCD Core'\\nASP 'L-peptide linking' . . . 'CCD Core'\\nGLN 'L-peptide linking' . . . 'CCD Core'\\nGLU 'L-peptide linking' . . . 'CCD Core'\\nGLY 'L-peptide linking' . . . 'CCD Core'\\nILE 'L-peptide linking' . . . 'CCD Core'\\nLEU 'L-peptide linking' . . . 'CCD Core'\\nLYS 'L-peptide linking' . . . 'CCD Core'\\nMET 'L-peptide linking' . . . 'CCD Core'\\nPRO 'L-peptide linking' . . . 'CCD Core'\\nSER 'L-peptide linking' . . . 'CCD Core'\\nTHR 'L-peptide linking' . . . 'CCD Core'\\nTYR 'L-peptide linking' . . . 'CCD Core'\\nVAL 'L-peptide linking' . . . 'CCD Core'\\n#\\n#\\nloop_\\n_entity.id\\n_entity.type\\n_entity.src_method\\n_entity.pdbx_description\\n_entity.formula_weight\\n_entity.pdbx_number_of_molecules\\n_entity.details\\n1 polymer man . . 1 .\\n#\\n#\\nloop_\\n_entity_poly.entity_id\\n_entity_poly.type\\n_entity_poly.nstd_linkage\\n_entity_poly.nstd_monomer\\n_entity_poly.pdbx_strand_id\\n_entity_poly.pdbx_seq_one_letter_code\\n_entity_poly.pdbx_seq_one_letter_code_can\\n1 polypeptide(L) no no A\\n;(MET)(LYS)(THR)(VAL)(ARG)(GLN)(GLU)(ARG)(LEU)(LYS)(SER)(ILE)(VAL)(ARG)\\n(ILE)(LEU)(GLU)(ARG)(SER)(LYS)(GLU)(PRO)(VAL)(SER)(GLY)(ALA)(GLN)(LEU)\\n(ALA)(GLU)(GLU)(LEU)(SER)(VAL)(SER)(ARG)(GLN)(VAL)(ILE)(VAL)(GLN)(ASP)\\n(ILE)(ALA)(TYR)(LEU)(ARG)(SER)(LEU)(GLY)(TYR)(ASN)(ILE)(VAL)(ALA)(THR)\\n(PRO)(ARG)(GLY)(TYR)(VAL)(LEU)(ALA)(GLY)(GLY)\\n;\\nXXXXXXXXXXXXXXXXXXXXXXXXXXXXXXXXXXXXXXXXXXXXXXXXXXXXXXXXXXXXXXXXX\\n#\\n#\\nloop_\\n_entity_poly_seq.entity_id\\n_entity_poly_seq.num\\n_entity_poly_seq.mon_id\\n_entity_poly_seq.hetero\\n1 1 MET .\\n1 2 LYS .\\n1 3 THR .\\n1 4 VAL .\\n1 5 ARG .\\n1 6 GLN .\\n1 7 GLU .\\n1 8 ARG .\\n1 9 LEU .\\n1 10 LYS .\\n1 11 SER .\\n1 12 ILE .\\n1 13 VAL .\\n1 14 ARG .\\n1 15 ILE .\\n1 16 LEU .\\n1 17 GLU .\\n1 18 ARG .\\n1 19 SER .\\n1 20 LYS .\\n1 21 GLU .\\n1 22 PRO .\\n1 23 VAL .\\n1 24 SER .\\n1 25 GLY .\\n1 26 ALA .\\n1 27 GLN .\\n1 28 LEU .\\n1 29 ALA .\\n1 30 GLU .\\n1 31 GLU .\\n1 32 LEU .\\n1 33 SER .\\n1 34 VAL .\\n1 35 SER .\\n1 36 ARG .\\n1 37 GLN .\\n1 38 VAL .\\n1 39 ILE .\\n1 40 VAL .\\n1 41 GLN .\\n1 42 ASP .\\n1 43 ILE .\\n1 44 ALA .\\n1 45 TYR .\\n1 46 LEU .\\n1 47 ARG .\\n1 48 SER .\\n1 49 LEU .\\n1 50 GLY .\\n1 51 TYR .\\n1 52 ASN .\\n1 53 ILE .\\n1 54 VAL .\\n1 55 ALA .\\n1 56 THR .\\n1 57 PRO .\\n1 58 ARG .\\n1 59 GLY .\\n1 60 TYR .\\n1 61 VAL .\\n1 62 LEU .\\n1 63 ALA .\\n1 64 GLY .\\n1 65 GLY .\\n#\\n#\\nloop_\\n_struct_asym.id\\n_struct_asym.entity_id\\n_struct_asym.details\\nA 1 'Model subunit A'\\n#\\n#\\nloop_\\n_pdbx_poly_seq_scheme.asym_id\\n_pdbx_poly_seq_scheme.entity_id\\n_pdbx_poly_seq_scheme.seq_id\\n_pdbx_poly_seq_scheme.mon_id\\n_pdbx_poly_seq_scheme.pdb_seq_num\\n_pdbx_poly_seq_scheme.auth_seq_num\\n_pdbx_poly_seq_scheme.pdb_mon_id\\n_pdbx_poly_seq_scheme.auth_mon_id\\n_pdbx_poly_seq_scheme.pdb_strand_id\\n_pdbx_poly_seq_scheme.pdb_ins_code\\nA 1 1 MET 1 1 MET MET A .\\nA 1 2 LYS 2 2 LYS LYS A .\\nA 1 3 THR 3 3 THR THR A .\\nA 1 4 VAL 4 4 VAL VAL A .\\nA 1 5 ARG 5 5 ARG ARG A .\\nA 1 6 GLN 6 6 GLN GLN A .\\nA 1 7 GLU 7 7 GLU GLU A .\\nA 1 8 ARG 8 8 ARG ARG A .\\nA 1 9 LEU 9 9 LEU LEU A .\\nA 1 10 LYS 10 10 LYS LYS A .\\nA 1 11 SER 11 11 SER SER A .\\nA 1 12 ILE 12 12 ILE ILE A .\\nA 1 13 VAL 13 13 VAL VAL A .\\nA 1 14 ARG 14 14 ARG ARG A .\\nA 1 15 ILE 15 15 ILE ILE A .\\nA 1 16 LEU 16 16 LEU LEU A .\\nA 1 17 GLU 17 17 GLU GLU A .\\nA 1 18 ARG 18 18 ARG ARG A .\\nA 1 19 SER 19 19 SER SER A .\\nA 1 20 LYS 20 20 LYS LYS A .\\nA 1 21 GLU 21 21 GLU GLU A .\\nA 1 22 PRO 22 22 PRO PRO A .\\nA 1 23 VAL 23 23 VAL VAL A .\\nA 1 24 SER 24 24 SER SER A .\\nA 1 25 GLY 25 25 GLY GLY A .\\nA 1 26 ALA 26 26 ALA ALA A .\\nA 1 27 GLN 27 27 GLN GLN A .\\nA 1 28 LEU 28 28 LEU LEU A .\\nA 1 29 ALA 29 29 ALA ALA A .\\nA 1 30 GLU 30 30 GLU GLU A .\\nA 1 31 GLU 31 31 GLU GLU A .\\nA 1 32 LEU 32 32 LEU LEU A .\\nA 1 33 SER 33 33 SER SER A .\\nA 1 34 VAL 34 34 VAL VAL A .\\nA 1 35 SER 35 35 SER SER A .\\nA 1 36 ARG 36 36 ARG ARG A .\\nA 1 37 GLN 37 37 GLN GLN A .\\nA 1 38 VAL 38 38 VAL VAL A .\\nA 1 39 ILE 39 39 ILE ILE A .\\nA 1 40 VAL 40 40 VAL VAL A .\\nA 1 41 GLN 41 41 GLN GLN A .\\nA 1 42 ASP 42 42 ASP ASP A .\\nA 1 43 ILE 43 43 ILE ILE A .\\nA 1 44 ALA 44 44 ALA ALA A .\\nA 1 45 TYR 45 45 TYR TYR A .\\nA 1 46 LEU 46 46 LEU LEU A .\\nA 1 47 ARG 47 47 ARG ARG A .\\nA 1 48 SER 48 48 SER SER A .\\nA 1 49 LEU 49 49 LEU LEU A .\\nA 1 50 GLY 50 50 GLY GLY A .\\nA 1 51 TYR 51 51 TYR TYR A .\\nA 1 52 ASN 52 52 ASN ASN A .\\nA 1 53 ILE 53 53 ILE ILE A .\\nA 1 54 VAL 54 54 VAL VAL A .\\nA 1 55 ALA 55 55 ALA ALA A .\\nA 1 56 THR 56 56 THR THR A .\\nA 1 57 PRO 57 57 PRO PRO A .\\nA 1 58 ARG 58 58 ARG ARG A .\\nA 1 59 GLY 59 59 GLY GLY A .\\nA 1 60 TYR 60 60 TYR TYR A .\\nA 1 61 VAL 61 61 VAL VAL A .\\nA 1 62 LEU 62 62 LEU LEU A .\\nA 1 63 ALA 63 63 ALA ALA A .\\nA 1 64 GLY 64 64 GLY GLY A .\\nA 1 65 GLY 65 65 GLY GLY A .\\n#\\n#\\nloop_\\n_ma_data.id\\n_ma_data.name\\n_ma_data.content_type\\n_ma_data.content_type_other_details\\n1 . target .\\n2 Model 'model coordinates' .\\n#\\n#\\nloop_\\n_ma_target_entity.entity_id\\n_ma_target_entity.data_id\\n_ma_target_entity.origin\\n1 1 designed\\n#\\n#\\nloop_\\n_ma_target_entity_instance.asym_id\\n_ma_target_entity_instance.entity_id\\n_ma_target_entity_instance.details\\nA 1 'Model subunit A'\\n#\\n#\\nloop_\\n_ma_model_list.ordinal_id\\n_ma_model_list.model_name\\n_ma_model_list.data_id\\n_ma_model_list.model_type\\n_ma_model_list.model_type_other_details\\n1 Model 2 'Ab initio model' .\\n#\\n#\\nloop_\\n_ma_model_group.id\\n_ma_model_group.name\\n_ma_model_group.details\\n1 'All models' .\\n#\\n#\\nloop_\\n_ma_model_group_link.group_id\\n_ma_model_group_link.model_id\\n1 1\\n#\\n#\\nloop_\\n_atom_site.group_PDB\\n_atom_site.id\\n_atom_site.type_symbol\\n_atom_site.label_atom_id\\n_atom_site.label_alt_id\\n_atom_site.label_comp_id\\n_atom_site.label_seq_id\\n_atom_site.auth_seq_id\\n_atom_site.pdbx_PDB_ins_code\\n_atom_site.label_asym_id\\n_atom_site.Cartn_x\\n_atom_site.Cartn_y\\n_atom_site.Cartn_z\\n_atom_site.occupancy\\n_atom_site.label_entity_id\\n_atom_site.auth_asym_id\\n_atom_site.auth_comp_id\\n_atom_site.B_iso_or_equiv\\n_atom_site.pdbx_PDB_model_num\\nATOM 1 N N . MET 1 1 ? A -6.38782 -4.76944 20.90206 1 1 A MET 73.448 1\\nATOM 2 C CA . MET 1 1 ? A -5.81475 -3.53629 20.34148 1 1 A MET 73.448 1\\nATOM 3 C C . MET 1 1 ? A -4.85564 -3.87610 19.20581 1 1 A MET 73.448 1\\nATOM 4 O O . MET 1 1 ? A -3.97644 -4.71545 19.36020 1 1 A MET 73.448 1\\nATOM 5 C CB . MET 1 1 ? A -5.07847 -2.74565 21.42754 1 1 A MET 73.448 1\\nATOM 6 C CG . MET 1 1 ? A -4.47032 -1.44047 20.92841 1 1 A MET 73.448 1\\nATOM 7 S SD . MET 1 1 ? A -3.62425 -0.53593 22.23901 1 1 A MET 73.448 1\\nATOM 8 C CE . MET 1 1 ? A -4.99328 -0.17791 23.33404 1 1 A MET 73.448 1\\nATOM 9 N N . LYS 2 2 ? A -5.02449 -3.20791 18.07433 1 1 A LYS 79.451 1\\nATOM 10 C CA . LYS 2 2 ? A -4.15640 -3.43585 16.93578 1 1 A LYS 79.451 1\\nATOM 11 C C . LYS 2 2 ? A -2.83410 -2.70566 17.12558 1 1 A LYS 79.451 1\\nATOM 12 O O . LYS 2 2 ? A -2.78702 -1.62061 17.70248 1 1 A LYS 79.451 1\\nATOM 13 C CB . LYS 2 2 ? A -4.82635 -2.96430 15.64442 1 1 A LYS 79.451 1\\nATOM 14 C CG . LYS 2 2 ? A -6.05757 -3.76772 15.28357 1 1 A LYS 79.451 1\\nATOM 15 C CD . LYS 2 2 ? A -6.77530 -3.17742 14.09012 1 1 A LYS 79.451 1\\nATOM 16 C CE . LYS 2 2 ? A -8.01230 -3.97781 13.75419 1 1 A LYS 79.451 1\\nATOM 17 N NZ . LYS 2 2 ? A -8.77425 -3.35387 12.63568 1 1 A LYS 79.451 1\\nATOM 18 N N . THR 3 3 ? A -1.77186 -3.32000 16.65528 1 1 A THR 89.592 1\\nATOM 19 C CA . THR 3 3 ? A -0.45909 -2.69726 16.74041 1 1 A THR 89.592 1\\nATOM 20 C C . THR 3 3 ? A -0.31703 -1.62059 15.67099 1 1 A THR 89.592 1\\nATOM 21 O O . THR 3 3 ? A -1.08829 -1.54633 14.70878 1 1 A THR 89.592 1\\nATOM 22 C CB . THR 3 3 ? A 0.65458 -3.72826 16.54367 1 1 A THR 89.592 1\\nATOM 23 O OG1 . THR 3 3 ? A 0.60018 -4.22497 15.20125 1 1 A THR 89.592 1\\nATOM 24 C CG2 . THR 3 3 ? A 0.51227 -4.87838 17.52557 1 1 A THR 89.592 1\\nATOM 25 N N . VAL 4 4 ? A 0.70211 -0.77288 15.85247 1 1 A VAL 91.362 1\\nATOM 26 C CA . VAL 4 4 ? A 1.01309 0.24192 14.84847 1 1 A VAL 91.362 1\\nATOM 27 C C . VAL 4 4 ? A 1.27944 -0.42190 13.49729 1 1 A VAL 91.362 1\\nATOM 28 O O . VAL 4 4 ? A 0.82852 0.05548 12.45461 1 1 A VAL 91.362 1\\nATOM 29 C CB . VAL 4 4 ? A 2.21325 1.09160 15.28782 1 1 A VAL 91.362 1\\nATOM 30 C CG1 . VAL 4 4 ? A 2.66425 2.00403 14.15633 1 1 A VAL 91.362 1\\nATOM 31 C CG2 . VAL 4 4 ? A 1.84984 1.90433 16.52707 1 1 A VAL 91.362 1\\nATOM 32 N N . ARG 5 5 ? A 2.00920 -1.53200 13.50752 1 1 A ARG 92.647 1\\nATOM 33 C CA . ARG 5 5 ? A 2.29121 -2.21208 12.25446 1 1 A ARG 92.647 1\\nATOM 34 C C . ARG 5 5 ? A 1.01763 -2.73066 11.60694 1 1 A ARG 92.647 1\\nATOM 35 O O . ARG 5 5 ? A 0.85476 -2.63452 10.38318 1 1 A ARG 92.647 1\\nATOM 36 C CB . ARG 5 5 ? A 3.27078 -3.36656 12.46135 1 1 A ARG 92.647 1\\nATOM 37 C CG . ARG 5 5 ? A 3.60219 -4.07577 11.15675 1 1 A ARG 92.647 1\\nATOM 38 C CD . ARG 5 5 ? A 4.69692 -5.10230 11.31220 1 1 A ARG 92.647 1\\nATOM 39 N NE . ARG 5 5 ? A 5.14409 -5.59273 10.01863 1 1 A ARG 92.647 1\\nATOM 40 C CZ . ARG 5 5 ? A 5.06256 -6.86366 9.61203 1 1 A ARG 92.647 1\\nATOM 41 N NH1 . ARG 5 5 ? A 4.55643 -7.79865 10.40434 1 1 A ARG 92.647 1\\nATOM 42 N NH2 . ARG 5 5 ? A 5.50939 -7.19528 8.39941 1 1 A ARG 92.647 1\\nATOM 43 N N . GLN 6 6 ? A 0.10870 -3.29727 12.39697 1 1 A GLN 94.829 1\\nATOM 44 C CA . GLN 6 6 ? A -1.14382 -3.79672 11.83523 1 1 A GLN 94.829 1\\nATOM 45 C C . GLN 6 6 ? A -1.93661 -2.67594 11.17933 1 1 A GLN 94.829 1\\nATOM 46 O O . GLN 6 6 ? A -2.52431 -2.86143 10.10842 1 1 A GLN 94.829 1\\nATOM 47 C CB . GLN 6 6 ? A -1.97794 -4.48371 12.91662 1 1 A GLN 94.829 1\\nATOM 48 C CG . GLN 6 6 ? A -1.41662 -5.83635 13.31896 1 1 A GLN 94.829 1\\nATOM 49 C CD . GLN 6 6 ? A -2.11182 -6.42594 14.52896 1 1 A GLN 94.829 1\\nATOM 50 O OE1 . GLN 6 6 ? A -2.57508 -5.70288 15.41490 1 1 A GLN 94.829 1\\nATOM 51 N NE2 . GLN 6 6 ? A -2.19165 -7.74546 14.58028 1 1 A GLN 94.829 1\\nATOM 52 N N . GLU 7 7 ? A -1.96460 -1.50362 11.81359 1 1 A GLU 95.769 1\\nATOM 53 C CA . GLU 7 7 ? A -2.65585 -0.36473 11.22346 1 1 A GLU 95.769 1\\nATOM 54 C C . GLU 7 7 ? A -1.97554 0.08337 9.93548 1 1 A GLU 95.769 1\\nATOM 55 O O . GLU 7 7 ? A -2.64692 0.44997 8.96377 1 1 A GLU 95.769 1\\nATOM 56 C CB . GLU 7 7 ? A -2.72410 0.79474 12.21430 1 1 A GLU 95.769 1\\nATOM 57 C CG . GLU 7 7 ? A -3.60817 0.51945 13.41801 1 1 A GLU 95.769 1\\nATOM 58 C CD . GLU 7 7 ? A -5.07516 0.38407 13.06182 1 1 A GLU 95.769 1\\nATOM 59 O OE1 . GLU 7 7 ? A -5.50109 0.90549 12.00280 1 1 A GLU 95.769 1\\nATOM 60 O OE2 . GLU 7 7 ? A -5.81536 -0.24945 13.84716 1 1 A GLU 95.769 1\\nATOM 61 N N . ARG 8 8 ? A -0.65275 0.04379 9.91519 1 1 A ARG 96.971 1\\nATOM 62 C CA . ARG 8 8 ? A 0.07360 0.42064 8.71122 1 1 A ARG 96.971 1\\nATOM 63 C C . ARG 8 8 ? A -0.19491 -0.55577 7.56843 1 1 A ARG 96.971 1\\nATOM 64 O O . ARG 8 8 ? A -0.35796 -0.13932 6.41720 1 1 A ARG 96.971 1\\nATOM 65 C CB . ARG 8 8 ? A 1.57325 0.50236 9.00114 1 1 A ARG 96.971 1\\nATOM 66 C CG . ARG 8 8 ? A 2.39106 1.06568 7.84350 1 1 A ARG 96.971 1\\nATOM 67 C CD . ARG 8 8 ? A 3.84345 1.26439 8.23299 1 1 A ARG 96.971 1\\nATOM 68 N NE . ARG 8 8 ? A 4.50007 -0.01133 8.51452 1 1 A ARG 96.971 1\\nATOM 69 C CZ . ARG 8 8 ? A 4.93827 -0.40670 9.71656 1 1 A ARG 96.971 1\\nATOM 70 N NH1 . ARG 8 8 ? A 4.80418 0.38539 10.77591 1 1 A ARG 96.971 1\\nATOM 71 N NH2 . ARG 8 8 ? A 5.51256 -1.58464 9.84492 1 1 A ARG 96.971 1\\nATOM 72 N N . LEU 9 9 ? A -0.25511 -1.83953 7.87634 1 1 A LEU 98.347 1\\nATOM 73 C CA . LEU 9 9 ? A -0.55885 -2.82837 6.84661 1 1 A LEU 98.347 1\\nATOM 74 C C . LEU 9 9 ? A -1.92238 -2.55641 6.22270 1 1 A LEU 98.347 1\\nATOM 75 O O . LEU 9 9 ? A -2.08618 -2.62166 5.00087 1 1 A LEU 98.347 1\\nATOM 76 C CB . LEU 9 9 ? A -0.52418 -4.24156 7.43246 1 1 A LEU 98.347 1\\nATOM 77 C CG . LEU 9 9 ? A 0.83452 -4.73721 7.90883 1 1 A LEU 98.347 1\\nATOM 78 C CD1 . LEU 9 9 ? A 0.67186 -6.04238 8.68336 1 1 A LEU 98.347 1\\nATOM 79 C CD2 . LEU 9 9 ? A 1.79119 -4.91217 6.73959 1 1 A LEU 98.347 1\\nATOM 80 N N . LYS 10 10 ? A -2.91808 -2.25021 7.06635 1 1 A LYS 96.823 1\\nATOM 81 C CA . LYS 10 10 ? A -4.24049 -1.93392 6.54742 1 1 A LYS 96.823 1\\nATOM 82 C C . LYS 10 10 ? A -4.20587 -0.68368 5.68728 1 1 A LYS 96.823 1\\nATOM 83 O O . LYS 10 10 ? A -4.88792 -0.60606 4.65825 1 1 A LYS 96.823 1\\nATOM 84 C CB . LYS 10 10 ? A -5.23425 -1.76152 7.69344 1 1 A LYS 96.823 1\\nATOM 85 C CG . LYS 10 10 ? A -5.54161 -3.05226 8.42944 1 1 A LYS 96.823 1\\nATOM 86 C CD . LYS 10 10 ? A -6.53157 -2.82555 9.55379 1 1 A LYS 96.823 1\\nATOM 87 C CE . LYS 10 10 ? A -6.80232 -4.12417 10.31910 1 1 A LYS 96.823 1\\nATOM 88 N NZ . LYS 10 10 ? A -7.42381 -5.15558 9.43986 1 1 A LYS 96.823 1\\nATOM 89 N N . SER 11 11 ? A -3.42157 0.30572 6.10320 1 1 A SER 98.225 1\\nATOM 90 C CA . SER 11 11 ? A -3.31554 1.54245 5.33398 1 1 A SER 98.225 1\\nATOM 91 C C . SER 11 11 ? A -2.67776 1.29825 3.97644 1 1 A SER 98.225 1\\nATOM 92 O O . SER 11 11 ? A -3.10368 1.88534 2.97505 1 1 A SER 98.225 1\\nATOM 93 C CB . SER 11 11 ? A -2.51446 2.59090 6.10634 1 1 A SER 98.225 1\\nATOM 94 O OG . SER 11 11 ? A -3.22291 2.98941 7.27053 1 1 A SER 98.225 1\\nATOM 95 N N . ILE 12 12 ? A -1.66376 0.44854 3.92142 1 1 A ILE 98.653 1\\nATOM 96 C CA . ILE 12 12 ? A -1.03749 0.12238 2.64486 1 1 A ILE 98.653 1\\nATOM 97 C C . ILE 12 12 ? A -2.06548 -0.48416 1.69887 1 1 A ILE 98.653 1\\nATOM 98 O O . ILE 12 12 ? A -2.15672 -0.10184 0.52712 1 1 A ILE 98.653 1\\nATOM 99 C CB . ILE 12 12 ? A 0.15605 -0.83453 2.84454 1 1 A ILE 98.653 1\\nATOM 100 C CG1 . ILE 12 12 ? A 1.30700 -0.09974 3.53611 1 1 A ILE 98.653 1\\nATOM 101 C CG2 . ILE 12 12 ? A 0.60662 -1.41724 1.50719 1 1 A ILE 98.653 1\\nATOM 102 C CD1 . ILE 12 12 ? A 2.41396 -1.02353 4.01722 1 1 A ILE 98.653 1\\nATOM 103 N N . VAL 13 13 ? A -2.84893 -1.43188 2.20431 1 1 A VAL 97.556 1\\nATOM 104 C CA . VAL 13 13 ? A -3.85842 -2.06701 1.36900 1 1 A VAL 97.556 1\\nATOM 105 C C . VAL 13 13 ? A -4.87441 -1.03936 0.87695 1 1 A VAL 97.556 1\\nATOM 106 O O . VAL 13 13 ? A -5.25348 -1.03964 -0.29806 1 1 A VAL 97.556 1\\nATOM 107 C CB . VAL 13 13 ? A -4.54959 -3.21462 2.12384 1 1 A VAL 97.556 1\\nATOM 108 C CG1 . VAL 13 13 ? A -5.73080 -3.75038 1.32259 1 1 A VAL 97.556 1\\nATOM 109 C CG2 . VAL 13 13 ? A -3.53686 -4.32859 2.39882 1 1 A VAL 97.556 1\\nATOM 110 N N . ARG 14 14 ? A -5.31721 -0.14038 1.76882 1 1 A ARG 97.639 1\\nATOM 111 C CA . ARG 14 14 ? A -6.28466 0.87501 1.36014 1 1 A ARG 97.639 1\\nATOM 112 C C . ARG 14 14 ? A -5.72281 1.79391 0.28550 1 1 A ARG 97.639 1\\nATOM 113 O O . ARG 14 14 ? A -6.42401 2.16265 -0.66157 1 1 A ARG 97.639 1\\nATOM 114 C CB . ARG 14 14 ? A -6.73756 1.70759 2.56554 1 1 A ARG 97.639 1\\nATOM 115 C CG . ARG 14 14 ? A -7.62608 0.96203 3.54869 1 1 A ARG 97.639 1\\nATOM 116 C CD . ARG 14 14 ? A -8.31206 1.92200 4.50216 1 1 A ARG 97.639 1\\nATOM 117 N NE . ARG 14 14 ? A -7.36747 2.64533 5.34479 1 1 A ARG 97.639 1\\nATOM 118 C CZ . ARG 14 14 ? A -6.95158 2.24022 6.54401 1 1 A ARG 97.639 1\\nATOM 119 N NH1 . ARG 14 14 ? A -7.39975 1.09531 7.05543 1 1 A ARG 97.639 1\\nATOM 120 N NH2 . ARG 14 14 ? A -6.08952 2.98122 7.22245 1 1 A ARG 97.639 1\\nATOM 121 N N . ILE 15 15 ? A -4.46567 2.17130 0.43429 1 1 A ILE 98.418 1\\nATOM 122 C CA . ILE 15 15 ? A -3.84098 3.04242 -0.55746 1 1 A ILE 98.418 1\\nATOM 123 C C . ILE 15 15 ? A -3.80250 2.34711 -1.91268 1 1 A ILE 98.418 1\\nATOM 124 O O . ILE 15 15 ? A -4.14243 2.93624 -2.94209 1 1 A ILE 98.418 1\\nATOM 125 C CB . ILE 15 15 ? A -2.42456 3.45429 -0.11166 1 1 A ILE 98.418 1\\nATOM 126 C CG1 . ILE 15 15 ? A -2.50692 4.39704 1.09133 1 1 A ILE 98.418 1\\nATOM 127 C CG2 . ILE 15 15 ? A -1.66845 4.11162 -1.26524 1 1 A ILE 98.418 1\\nATOM 128 C CD1 . ILE 15 15 ? A -1.19005 4.55641 1.83640 1 1 A ILE 98.418 1\\nATOM 129 N N . LEU 16 16 ? A -3.39623 1.09061 -1.92379 1 1 A LEU 98.254 1\\nATOM 130 C CA . LEU 16 16 ? A -3.32363 0.36080 -3.18466 1 1 A LEU 98.254 1\\nATOM 131 C C . LEU 16 16 ? A -4.70522 0.12073 -3.77712 1 1 A LEU 98.254 1\\nATOM 132 O O . LEU 16 16 ? A -4.87214 0.13522 -5.00051 1 1 A LEU 98.254 1\\nATOM 133 C CB . LEU 16 16 ? A -2.57999 -0.96224 -2.99637 1 1 A LEU 98.254 1\\nATOM 134 C CG . LEU 16 16 ? A -1.11660 -0.82612 -2.58364 1 1 A LEU 98.254 1\\nATOM 135 C CD1 . LEU 16 16 ? A -0.48410 -2.20484 -2.42255 1 1 A LEU 98.254 1\\nATOM 136 C CD2 . LEU 16 16 ? A -0.33934 0.00803 -3.58644 1 1 A LEU 98.254 1\\nATOM 137 N N . GLU 17 17 ? A -5.70347 -0.09807 -2.91883 1 1 A GLU 95.668 1\\nATOM 138 C CA . GLU 17 17 ? A -7.06089 -0.33297 -3.40191 1 1 A GLU 95.668 1\\nATOM 139 C C . GLU 17 17 ? A -7.63967 0.89302 -4.09371 1 1 A GLU 95.668 1\\nATOM 140 O O . GLU 17 17 ? A -8.37292 0.76539 -5.08003 1 1 A GLU 95.668 1\\nATOM 141 C CB . GLU 17 17 ? A -7.98146 -0.74045 -2.24991 1 1 A GLU 95.668 1\\nATOM 142 C CG . GLU 17 17 ? A -7.78741 -2.16985 -1.77953 1 1 A GLU 95.668 1\\nATOM 143 C CD . GLU 17 17 ? A -8.63364 -2.49785 -0.56037 1 1 A GLU 95.668 1\\nATOM 144 O OE1 . GLU 17 17 ? A -9.02756 -1.55872 0.17625 1 1 A GLU 95.668 1\\nATOM 145 O OE2 . GLU 17 17 ? A -8.90089 -3.68994 -0.33670 1 1 A GLU 95.668 1\\nATOM 146 N N . ARG 18 18 ? A -7.35073 2.07609 -3.57191 1 1 A ARG 94.326 1\\nATOM 147 C CA . ARG 18 18 ? A -7.96642 3.27700 -4.11574 1 1 A ARG 94.326 1\\nATOM 148 C C . ARG 18 18 ? A -7.19360 3.85835 -5.29014 1 1 A ARG 94.326 1\\nATOM 149 O O . ARG 18 18 ? A -7.74056 4.65537 -6.05950 1 1 A ARG 94.326 1\\nATOM 150 C CB . ARG 18 18 ? A -8.14030 4.34393 -3.02402 1 1 A ARG 94.326 1\\nATOM 151 C CG . ARG 18 18 ? A -6.86880 5.00987 -2.56956 1 1 A ARG 94.326 1\\nATOM 152 C CD . ARG 18 18 ? A -7.16237 6.15081 -1.60234 1 1 A ARG 94.326 1\\nATOM 153 N NE . ARG 18 18 ? A -5.94041 6.83248 -1.20560 1 1 A ARG 94.326 1\\nATOM 154 C CZ . ARG 18 18 ? A -5.40189 6.77692 0.01219 1 1 A ARG 94.326 1\\nATOM 155 N NH1 . ARG 18 18 ? A -5.99232 6.06533 0.97022 1 1 A ARG 94.326 1\\nATOM 156 N NH2 . ARG 18 18 ? A -4.28244 7.43784 0.26752 1 1 A ARG 94.326 1\\nATOM 157 N N . SER 19 19 ? A -5.93658 3.47011 -5.45387 1 1 A SER 95.571 1\\nATOM 158 C CA . SER 19 19 ? A -5.11718 4.03844 -6.51445 1 1 A SER 95.571 1\\nATOM 159 C C . SER 19 19 ? A -5.50831 3.46104 -7.87143 1 1 A SER 95.571 1\\nATOM 160 O O . SER 19 19 ? A -5.80179 2.27127 -8.00034 1 1 A SER 95.571 1\\nATOM 161 C CB . SER 19 19 ? A -3.64153 3.76600 -6.26110 1 1 A SER 95.571 1\\nATOM 162 O OG . SER 19 19 ? A -2.84212 4.32773 -7.28525 1 1 A SER 95.571 1\\nATOM 163 N N . LYS 20 20 ? A -5.50946 4.31950 -8.88107 1 1 A LYS 88.617 1\\nATOM 164 C CA . LYS 20 20 ? A -5.79331 3.90343 -10.24584 1 1 A LYS 88.617 1\\nATOM 165 C C . LYS 20 20 ? A -4.53157 3.58166 -11.03102 1 1 A LYS 88.617 1\\nATOM 166 O O . LYS 20 20 ? A -4.61828 3.24581 -12.21701 1 1 A LYS 88.617 1\\nATOM 167 C CB . LYS 20 20 ? A -6.57428 4.99280 -10.98408 1 1 A LYS 88.617 1\\nATOM 168 C CG . LYS 20 20 ? A -7.89198 5.35865 -10.31270 1 1 A LYS 88.617 1\\nATOM 169 C CD . LYS 20 20 ? A -8.91271 4.26703 -10.53365 1 1 A LYS 88.617 1\\nATOM 170 C CE . LYS 20 20 ? A -10.31367 4.73132 -10.18233 1 1 A LYS 88.617 1\\nATOM 171 N NZ . LYS 20 20 ? A -10.46332 4.98622 -8.72286 1 1 A LYS 88.617 1\\nATOM 172 N N . GLU 21 21 ? A -3.37813 3.67364 -10.39506 1 1 A GLU 95.037 1\\nATOM 173 C CA . GLU 21 21 ? A -2.10385 3.44244 -11.05659 1 1 A GLU 95.037 1\\nATOM 174 C C . GLU 21 21 ? A -1.12670 2.87234 -10.04668 1 1 A GLU 95.037 1\\nATOM 175 O O . GLU 21 21 ? A -1.37070 2.93300 -8.83941 1 1 A GLU 95.037 1\\nATOM 176 C CB . GLU 21 21 ? A -1.55961 4.74574 -11.65405 1 1 A GLU 95.037 1\\nATOM 177 C CG . GLU 21 21 ? A -1.28400 5.81531 -10.61601 1 1 A GLU 95.037 1\\nATOM 178 C CD . GLU 21 21 ? A -0.88582 7.14422 -11.23226 1 1 A GLU 95.037 1\\nATOM 179 O OE1 . GLU 21 21 ? A -0.88275 7.26544 -12.47297 1 1 A GLU 95.037 1\\nATOM 180 O OE2 . GLU 21 21 ? A -0.58191 8.07197 -10.45867 1 1 A GLU 95.037 1\\nATOM 181 N N . PRO 22 22 ? A -0.02600 2.29544 -10.50880 1 1 A PRO 97.396 1\\nATOM 182 C CA . PRO 22 22 ? A 0.95371 1.76439 -9.56187 1 1 A PRO 97.396 1\\nATOM 183 C C . PRO 22 22 ? A 1.42636 2.82486 -8.57943 1 1 A PRO 97.396 1\\nATOM 184 O O . PRO 22 22 ? A 1.57679 3.99440 -8.93184 1 1 A PRO 97.396 1\\nATOM 185 C CB . PRO 22 22 ? A 2.09575 1.29363 -10.46374 1 1 A PRO 97.396 1\\nATOM 186 C CG . PRO 22 22 ? A 1.42928 0.98054 -11.76481 1 1 A PRO 97.396 1\\nATOM 187 C CD . PRO 22 22 ? A 0.36113 2.03545 -11.90498 1 1 A PRO 97.396 1\\nATOM 188 N N . VAL 23 23 ? A 1.63997 2.41470 -7.33400 1 1 A VAL 98.392 1\\nATOM 189 C CA . VAL 23 23 ? A 2.08658 3.29351 -6.26673 1 1 A VAL 98.392 1\\nATOM 190 C C . VAL 23 23 ? A 3.49142 2.87518 -5.87667 1 1 A VAL 98.392 1\\nATOM 191 O O . VAL 23 23 ? A 3.72054 1.73054 -5.48488 1 1 A VAL 98.392 1\\nATOM 192 C CB . VAL 23 23 ? A 1.15165 3.21821 -5.04803 1 1 A VAL 98.392 1\\nATOM 193 C CG1 . VAL 23 23 ? A 1.60623 4.19878 -3.97616 1 1 A VAL 98.392 1\\nATOM 194 C CG2 . VAL 23 23 ? A -0.28271 3.51019 -5.47147 1 1 A VAL 98.392 1\\nATOM 195 N N . SER 24 24 ? A 4.43340 3.80390 -5.96996 1 1 A SER 98.094 1\\nATOM 196 C CA . SER 24 24 ? A 5.81893 3.47528 -5.68279 1 1 A SER 98.094 1\\nATOM 197 C C . SER 24 24 ? A 6.03847 3.25367 -4.19303 1 1 A SER 98.094 1\\nATOM 198 O O . SER 24 24 ? A 5.28557 3.74349 -3.34829 1 1 A SER 98.094 1\\nATOM 199 C CB . SER 24 24 ? A 6.75144 4.57958 -6.17483 1 1 A SER 98.094 1\\nATOM 200 O OG . SER 24 24 ? A 6.63947 5.72820 -5.35600 1 1 A SER 98.094 1\\nATOM 201 N N . GLY 25 25 ? A 7.09426 2.52380 -3.87165 1 1 A GLY 98.347 1\\nATOM 202 C CA . GLY 25 25 ? A 7.47696 2.35746 -2.48247 1 1 A GLY 98.347 1\\nATOM 203 C C . GLY 25 25 ? A 7.81974 3.67315 -1.81602 1 1 A GLY 98.347 1\\nATOM 204 O O . GLY 25 25 ? A 7.54031 3.86643 -0.63048 1 1 A GLY 98.347 1\\nATOM 205 N N . ALA 26 26 ? A 8.41744 4.58393 -2.56880 1 1 A ALA 97.872 1\\nATOM 206 C CA . ALA 26 26 ? A 8.74499 5.88930 -2.01430 1 1 A ALA 97.872 1\\nATOM 207 C C . ALA 26 26 ? A 7.48454 6.66601 -1.66396 1 1 A ALA 97.872 1\\nATOM 208 O O . ALA 26 26 ? A 7.43394 7.34825 -0.63349 1 1 A ALA 97.872 1\\nATOM 209 C CB . ALA 26 26 ? A 9.60780 6.68134 -2.99282 1 1 A ALA 97.872 1\\nATOM 210 N N . GLN 27 27 ? A 6.46427 6.58038 -2.51162 1 1 A GLN 98.082 1\\nATOM 211 C CA . GLN 27 27 ? A 5.21093 7.26883 -2.23777 1 1 A GLN 98.082 1\\nATOM 212 C C . GLN 27 27 ? A 4.53902 6.69397 -0.99295 1 1 A GLN 98.082 1\\nATOM 213 O O . GLN 27 27 ? A 4.02597 7.43970 -0.15279 1 1 A GLN 98.082 1\\nATOM 214 C CB . GLN 27 27 ? A 4.28289 7.17369 -3.44462 1 1 A GLN 98.082 1\\nATOM 215 C CG . GLN 27 27 ? A 2.94301 7.85709 -3.25216 1 1 A GLN 98.082 1\\nATOM 216 C CD . GLN 27 27 ? A 2.08227 7.81653 -4.50013 1 1 A GLN 98.082 1\\nATOM 217 O OE1 . GLN 27 27 ? A 2.55623 7.51868 -5.59973 1 1 A GLN 98.082 1\\nATOM 218 N NE2 . GLN 27 27 ? A 0.80061 8.12625 -4.34098 1 1 A GLN 98.082 1\\nATOM 219 N N . LEU 28 28 ? A 4.51749 5.37371 -0.87725 1 1 A LEU 98.707 1\\nATOM 220 C CA . LEU 28 28 ? A 3.94846 4.74008 0.30664 1 1 A LEU 98.707 1\\nATOM 221 C C . LEU 28 28 ? A 4.70465 5.15518 1.56212 1 1 A LEU 98.707 1\\nATOM 222 O O . LEU 28 28 ? A 4.09972 5.45404 2.59428 1 1 A LEU 98.707 1\\nATOM 223 C CB . LEU 28 28 ? A 3.97346 3.21920 0.16006 1 1 A LEU 98.707 1\\nATOM 224 C CG . LEU 28 28 ? A 2.98861 2.61937 -0.83866 1 1 A LEU 98.707 1\\nATOM 225 C CD1 . LEU 28 28 ? A 3.36311 1.17400 -1.13956 1 1 A LEU 98.707 1\\nATOM 226 C CD2 . LEU 28 28 ? A 1.56678 2.71280 -0.29685 1 1 A LEU 98.707 1\\nATOM 227 N N . ALA 29 29 ? A 6.03462 5.16751 1.48302 1 1 A ALA 98.705 1\\nATOM 228 C CA . ALA 29 29 ? A 6.84858 5.52688 2.63376 1 1 A ALA 98.705 1\\nATOM 229 C C . ALA 29 29 ? A 6.57934 6.96210 3.06035 1 1 A ALA 98.705 1\\nATOM 230 O O . ALA 29 29 ? A 6.49822 7.26008 4.25748 1 1 A ALA 98.705 1\\nATOM 231 C CB . ALA 29 29 ? A 8.32594 5.33077 2.31667 1 1 A ALA 98.705 1\\nATOM 232 N N . GLU 30 30 ? A 6.43069 7.86031 2.09463 1 1 A GLU 98.403 1\\nATOM 233 C CA . GLU 30 30 ? A 6.15711 9.25309 2.40806 1 1 A GLU 98.403 1\\nATOM 234 C C . GLU 30 30 ? A 4.78973 9.40509 3.06039 1 1 A GLU 98.403 1\\nATOM 235 O O . GLU 30 30 ? A 4.64327 10.11032 4.06696 1 1 A GLU 98.403 1\\nATOM 236 C CB . GLU 30 30 ? A 6.24318 10.10423 1.14380 1 1 A GLU 98.403 1\\nATOM 237 C CG . GLU 30 30 ? A 5.97890 11.57944 1.38419 1 1 A GLU 98.403 1\\nATOM 238 C CD . GLU 30 30 ? A 6.12519 12.42227 0.13273 1 1 A GLU 98.403 1\\nATOM 239 O OE1 . GLU 30 30 ? A 6.28696 11.85125 -0.97265 1 1 A GLU 98.403 1\\nATOM 240 O OE2 . GLU 30 30 ? A 6.08371 13.65618 0.25291 1 1 A GLU 98.403 1\\nATOM 241 N N . GLU 31 31 ? A 3.77976 8.75490 2.50508 1 1 A GLU 97.395 1\\nATOM 242 C CA . GLU 31 31 ? A 2.42661 8.89898 3.01981 1 1 A GLU 97.395 1\\nATOM 243 C C . GLU 31 31 ? A 2.29461 8.33233 4.42565 1 1 A GLU 97.395 1\\nATOM 244 O O . GLU 31 31 ? A 1.54612 8.86534 5.24926 1 1 A GLU 97.395 1\\nATOM 245 C CB . GLU 31 31 ? A 1.42883 8.23032 2.07861 1 1 A GLU 97.395 1\\nATOM 246 C CG . GLU 31 31 ? A -0.01488 8.42712 2.48634 1 1 A GLU 97.395 1\\nATOM 247 C CD . GLU 31 31 ? A -0.99995 8.16401 1.35885 1 1 A GLU 97.395 1\\nATOM 248 O OE1 . GLU 31 31 ? A -0.56192 7.99794 0.19538 1 1 A GLU 97.395 1\\nATOM 249 O OE2 . GLU 31 31 ? A -2.20775 8.14109 1.64023 1 1 A GLU 97.395 1\\nATOM 250 N N . LEU 32 32 ? A 3.00371 7.26199 4.70249 1 1 A LEU 98.305 1\\nATOM 251 C CA . LEU 32 32 ? A 2.89167 6.58221 5.98635 1 1 A LEU 98.305 1\\nATOM 252 C C . LEU 32 32 ? A 3.99108 6.95836 6.97013 1 1 A LEU 98.305 1\\nATOM 253 O O . LEU 32 32 ? A 4.01181 6.43777 8.09003 1 1 A LEU 98.305 1\\nATOM 254 C CB . LEU 32 32 ? A 2.86885 5.06870 5.76548 1 1 A LEU 98.305 1\\nATOM 255 C CG . LEU 32 32 ? A 1.71346 4.58784 4.89131 1 1 A LEU 98.305 1\\nATOM 256 C CD1 . LEU 32 32 ? A 1.82415 3.09894 4.61762 1 1 A LEU 98.305 1\\nATOM 257 C CD2 . LEU 32 32 ? A 0.37947 4.92161 5.54598 1 1 A LEU 98.305 1\\nATOM 258 N N . SER 33 33 ? A 4.90291 7.84513 6.57210 1 1 A SER 97.321 1\\nATOM 259 C CA . SER 33 33 ? A 5.95751 8.35336 7.44233 1 1 A SER 97.321 1\\nATOM 260 C C . SER 33 33 ? A 6.82111 7.23553 8.00191 1 1 A SER 97.321 1\\nATOM 261 O O . SER 33 33 ? A 7.10131 7.17901 9.20292 1 1 A SER 97.321 1\\nATOM 262 C CB . SER 33 33 ? A 5.37769 9.20656 8.57358 1 1 A SER 97.321 1\\nATOM 263 O OG . SER 33 33 ? A 4.69547 10.33027 8.05537 1 1 A SER 97.321 1\\nATOM 264 N N . VAL 34 34 ? A 7.22992 6.33001 7.12949 1 1 A VAL 98.085 1\\nATOM 265 C CA . VAL 34 34 ? A 8.15078 5.25970 7.47756 1 1 A VAL 98.085 1\\nATOM 266 C C . VAL 34 34 ? A 9.21190 5.16128 6.39751 1 1 A VAL 98.085 1\\nATOM 267 O O . VAL 34 34 ? A 9.10431 5.77660 5.34204 1 1 A VAL 98.085 1\\nATOM 268 C CB . VAL 34 34 ? A 7.43650 3.89938 7.65009 1 1 A VAL 98.085 1\\nATOM 269 C CG1 . VAL 34 34 ? A 6.48439 3.93063 8.82716 1 1 A VAL 98.085 1\\nATOM 270 C CG2 . VAL 34 34 ? A 6.70636 3.51203 6.36400 1 1 A VAL 98.085 1\\nATOM 271 N N . SER 35 35 ? A 10.23791 4.37173 6.65152 1 1 A SER 98.537 1\\nATOM 272 C CA . SER 35 35 ? A 11.29444 4.17885 5.67226 1 1 A SER 98.537 1\\nATOM 273 C C . SER 35 35 ? A 10.81971 3.27268 4.54616 1 1 A SER 98.537 1\\nATOM 274 O O . SER 35 35 ? A 9.88139 2.48425 4.70008 1 1 A SER 98.537 1\\nATOM 275 C CB . SER 35 35 ? A 12.53351 3.57365 6.32124 1 1 A SER 98.537 1\\nATOM 276 O OG . SER 35 35 ? A 12.29898 2.22492 6.69158 1 1 A SER 98.537 1\\nATOM 277 N N . ARG 36 36 ? A 11.47619 3.39127 3.40244 1 1 A ARG 97.113 1\\nATOM 278 C CA . ARG 36 36 ? A 11.15297 2.49555 2.30431 1 1 A ARG 97.113 1\\nATOM 279 C C . ARG 36 36 ? A 11.44017 1.04184 2.68382 1 1 A ARG 97.113 1\\nATOM 280 O O . ARG 36 36 ? A 10.74732 0.12630 2.23185 1 1 A ARG 97.113 1\\nATOM 281 C CB . ARG 36 36 ? A 11.91055 2.87551 1.03993 1 1 A ARG 97.113 1\\nATOM 282 C CG . ARG 36 36 ? A 11.43867 2.08239 -0.16911 1 1 A ARG 97.113 1\\nATOM 283 C CD . ARG 36 36 ? A 12.15056 2.45138 -1.44701 1 1 A ARG 97.113 1\\nATOM 284 N NE . ARG 36 36 ? A 11.59473 1.73440 -2.58738 1 1 A ARG 97.113 1\\nATOM 285 C CZ . ARG 36 36 ? A 11.82675 0.44770 -2.86545 1 1 A ARG 97.113 1\\nATOM 286 N NH1 . ARG 36 36 ? A 12.61800 -0.27819 -2.08387 1 1 A ARG 97.113 1\\nATOM 287 N NH2 . ARG 36 36 ? A 11.26057 -0.10788 -3.92725 1 1 A ARG 97.113 1\\nATOM 288 N N . GLN 37 37 ? A 12.46290 0.80064 3.50962 1 1 A GLN 98.495 1\\nATOM 289 C CA . GLN 37 37 ? A 12.75038 -0.56040 3.94510 1 1 A GLN 98.495 1\\nATOM 290 C C . GLN 37 37 ? A 11.55246 -1.16723 4.66932 1 1 A GLN 98.495 1\\nATOM 291 O O . GLN 37 37 ? A 11.22886 -2.34372 4.48416 1 1 A GLN 98.495 1\\nATOM 292 C CB . GLN 37 37 ? A 13.97950 -0.58308 4.85272 1 1 A GLN 98.495 1\\nATOM 293 C CG . GLN 37 37 ? A 14.32588 -1.97044 5.36855 1 1 A GLN 98.495 1\\nATOM 294 C CD . GLN 37 37 ? A 15.54727 -1.97243 6.25959 1 1 A GLN 98.495 1\\nATOM 295 O OE1 . GLN 37 37 ? A 15.99316 -0.92941 6.74223 1 1 A GLN 98.495 1\\nATOM 296 N NE2 . GLN 37 37 ? A 16.10086 -3.15674 6.49357 1 1 A GLN 98.495 1\\nATOM 297 N N . VAL 38 38 ? A 10.88812 -0.36860 5.50643 1 1 A VAL 98.064 1\\nATOM 298 C CA . VAL 38 38 ? A 9.70307 -0.85072 6.20715 1 1 A VAL 98.064 1\\nATOM 299 C C . VAL 38 38 ? A 8.60486 -1.19873 5.20438 1 1 A VAL 98.064 1\\nATOM 300 O O . VAL 38 38 ? A 7.91340 -2.21419 5.34836 1 1 A VAL 98.064 1\\nATOM 301 C CB . VAL 38 38 ? A 9.21137 0.19136 7.23357 1 1 A VAL 98.064 1\\nATOM 302 C CG1 . VAL 38 38 ? A 7.81858 -0.15710 7.73823 1 1 A VAL 98.064 1\\nATOM 303 C CG2 . VAL 38 38 ? A 10.20082 0.27938 8.38825 1 1 A VAL 98.064 1\\nATOM 304 N N . ILE 39 39 ? A 8.42177 -0.36079 4.18858 1 1 A ILE 98.441 1\\nATOM 305 C CA . ILE 39 39 ? A 7.41300 -0.63858 3.16999 1 1 A ILE 98.441 1\\nATOM 306 C C . ILE 39 39 ? A 7.71510 -1.94806 2.45607 1 1 A ILE 98.441 1\\nATOM 307 O O . ILE 39 39 ? A 6.81897 -2.77009 2.23259 1 1 A ILE 98.441 1\\nATOM 308 C CB . ILE 39 39 ? A 7.31802 0.51913 2.15787 1 1 A ILE 98.441 1\\nATOM 309 C CG1 . ILE 39 39 ? A 6.80491 1.79031 2.85196 1 1 A ILE 98.441 1\\nATOM 310 C CG2 . ILE 39 39 ? A 6.42233 0.13106 0.97864 1 1 A ILE 98.441 1\\nATOM 311 C CD1 . ILE 39 39 ? A 5.42162 1.66564 3.44905 1 1 A ILE 98.441 1\\nATOM 312 N N . VAL 40 40 ? A 8.97139 -2.16921 2.09212 1 1 A VAL 97.443 1\\nATOM 313 C CA . VAL 40 40 ? A 9.34727 -3.39943 1.41235 1 1 A VAL 97.443 1\\nATOM 314 C C . VAL 40 40 ? A 9.00226 -4.60831 2.28180 1 1 A VAL 97.443 1\\nATOM 315 O O . VAL 40 40 ? A 8.45229 -5.60671 1.80337 1 1 A VAL 97.443 1\\nATOM 316 C CB . VAL 40 40 ? A 10.84222 -3.38086 1.04757 1 1 A VAL 97.443 1\\nATOM 317 C CG1 . VAL 40 40 ? A 11.29874 -4.75933 0.58182 1 1 A VAL 97.443 1\\nATOM 318 C CG2 . VAL 40 40 ? A 11.09955 -2.32223 -0.02110 1 1 A VAL 97.443 1\\nATOM 319 N N . GLN 41 41 ? A 9.31500 -4.51357 3.56765 1 1 A GLN 97.977 1\\nATOM 320 C CA . GLN 41 41 ? A 9.01845 -5.61065 4.48159 1 1 A GLN 97.977 1\\nATOM 321 C C . GLN 41 41 ? A 7.51692 -5.82130 4.62835 1 1 A GLN 97.977 1\\nATOM 322 O O . GLN 41 41 ? A 7.03829 -6.96405 4.66508 1 1 A GLN 97.977 1\\nATOM 323 C CB . GLN 41 41 ? A 9.65409 -5.33497 5.84272 1 1 A GLN 97.977 1\\nATOM 324 C CG . GLN 41 41 ? A 11.17856 -5.38178 5.80539 1 1 A GLN 97.977 1\\nATOM 325 C CD . GLN 41 41 ? A 11.82487 -4.83860 7.06292 1 1 A GLN 97.977 1\\nATOM 326 O OE1 . GLN 41 41 ? A 11.19034 -4.13879 7.85976 1 1 A GLN 97.977 1\\nATOM 327 N NE2 . GLN 41 41 ? A 13.09999 -5.14349 7.24581 1 1 A GLN 97.977 1\\nATOM 328 N N . ASP 42 42 ? A 6.76247 -4.73379 4.72636 1 1 A ASP 98.557 1\\nATOM 329 C CA . ASP 42 42 ? A 5.31376 -4.84321 4.86638 1 1 A ASP 98.557 1\\nATOM 330 C C . ASP 42 42 ? A 4.67325 -5.43249 3.61498 1 1 A ASP 98.557 1\\nATOM 331 O O . ASP 42 42 ? A 3.74324 -6.24091 3.71088 1 1 A ASP 98.557 1\\nATOM 332 C CB . ASP 42 42 ? A 4.70217 -3.47048 5.16660 1 1 A ASP 98.557 1\\nATOM 333 C CG . ASP 42 42 ? A 4.92697 -3.02078 6.59637 1 1 A ASP 98.557 1\\nATOM 334 O OD1 . ASP 42 42 ? A 5.35432 -3.84109 7.43288 1 1 A ASP 98.557 1\\nATOM 335 O OD2 . ASP 42 42 ? A 4.65891 -1.83365 6.88064 1 1 A ASP 98.557 1\\nATOM 336 N N . ILE 43 43 ? A 5.12660 -5.02744 2.44013 1 1 A ILE 98.462 1\\nATOM 337 C CA . ILE 43 43 ? A 4.59404 -5.58447 1.19973 1 1 A ILE 98.462 1\\nATOM 338 C C . ILE 43 43 ? A 4.87867 -7.08171 1.13777 1 1 A ILE 98.462 1\\nATOM 339 O O . ILE 43 43 ? A 4.00480 -7.87628 0.76981 1 1 A ILE 98.462 1\\nATOM 340 C CB . ILE 43 43 ? A 5.18611 -4.86748 -0.02686 1 1 A ILE 98.462 1\\nATOM 341 C CG1 . ILE 43 43 ? A 4.69934 -3.41073 -0.08608 1 1 A ILE 98.462 1\\nATOM 342 C CG2 . ILE 43 43 ? A 4.84589 -5.62109 -1.31230 1 1 A ILE 98.462 1\\nATOM 343 C CD1 . ILE 43 43 ? A 3.22333 -3.25467 -0.35833 1 1 A ILE 98.462 1\\nATOM 344 N N . ALA 44 44 ? A 6.09194 -7.47851 1.50198 1 1 A ALA 98.163 1\\nATOM 345 C CA . ALA 44 44 ? A 6.42593 -8.89773 1.49867 1 1 A ALA 98.163 1\\nATOM 346 C C . ALA 44 44 ? A 5.51824 -9.66944 2.44694 1 1 A ALA 98.163 1\\nATOM 347 O O . ALA 44 44 ? A 5.05491 -10.77153 2.12921 1 1 A ALA 98.163 1\\nATOM 348 C CB . ALA 44 44 ? A 7.89112 -9.09702 1.87706 1 1 A ALA 98.163 1\\nATOM 349 N N . TYR 45 45 ? A 5.25575 -9.10261 3.60688 1 1 A TYR 97.847 1\\nATOM 350 C CA . TYR 45 45 ? A 4.38364 -9.76048 4.57068 1 1 A TYR 97.847 1\\nATOM 351 C C . TYR 45 45 ? A 2.95465 -9.86278 4.04516 1 1 A TYR 97.847 1\\nATOM 352 O O . TYR 45 45 ? A 2.31200 -10.91283 4.16407 1 1 A TYR 97.847 1\\nATOM 353 C CB . TYR 45 45 ? A 4.40918 -9.01556 5.90412 1 1 A TYR 97.847 1\\nATOM 354 C CG . TYR 45 45 ? A 3.54816 -9.65493 6.96459 1 1 A TYR 97.847 1\\nATOM 355 C CD1 . TYR 45 45 ? A 3.84069 -10.92332 7.45168 1 1 A TYR 97.847 1\\nATOM 356 C CD2 . TYR 45 45 ? A 2.44754 -8.98949 7.48368 1 1 A TYR 97.847 1\\nATOM 357 C CE1 . TYR 45 45 ? A 3.05246 -11.51597 8.42924 1 1 A TYR 97.847 1\\nATOM 358 C CE2 . TYR 45 45 ? A 1.65550 -9.57352 8.45958 1 1 A TYR 97.847 1\\nATOM 359 C CZ . TYR 45 45 ? A 1.96135 -10.83516 8.92551 1 1 A TYR 97.847 1\\nATOM 360 O OH . TYR 45 45 ? A 1.17616 -11.41629 9.89481 1 1 A TYR 97.847 1\\nATOM 361 N N . LEU 46 46 ? A 2.43385 -8.78201 3.47537 1 1 A LEU 98.168 1\\nATOM 362 C CA . LEU 46 46 ? A 1.08780 -8.81302 2.91429 1 1 A LEU 98.168 1\\nATOM 363 C C . LEU 46 46 ? A 0.97124 -9.87103 1.82072 1 1 A LEU 98.168 1\\nATOM 364 O O . LEU 46 46 ? A -0.03723 -10.57797 1.73228 1 1 A LEU 98.168 1\\nATOM 365 C CB . LEU 46 46 ? A 0.70537 -7.43144 2.36836 1 1 A LEU 98.168 1\\nATOM 366 C CG . LEU 46 46 ? A 0.37238 -6.38989 3.43292 1 1 A LEU 98.168 1\\nATOM 367 C CD1 . LEU 46 46 ? A 0.40854 -4.98905 2.83923 1 1 A LEU 98.168 1\\nATOM 368 C CD2 . LEU 46 46 ? A -0.98105 -6.68981 4.06157 1 1 A LEU 98.168 1\\nATOM 369 N N . ARG 47 47 ? A 1.98850 -9.98964 0.98389 1 1 A ARG 97.320 1\\nATOM 370 C CA . ARG 47 47 ? A 1.99272 -11.02990 -0.03761 1 1 A ARG 97.320 1\\nATOM 371 C C . ARG 47 47 ? A 1.96669 -12.41500 0.59679 1 1 A ARG 97.320 1\\nATOM 372 O O . ARG 47 47 ? A 1.28843 -13.32019 0.09810 1 1 A ARG 97.320 1\\nATOM 373 C CB . ARG 47 47 ? A 3.19637 -10.87619 -0.96625 1 1 A ARG 97.320 1\\nATOM 374 C CG . ARG 47 47 ? A 3.06418 -9.69584 -1.92444 1 1 A ARG 97.320 1\\nATOM 375 C CD . ARG 47 47 ? A 4.37764 -9.35393 -2.60956 1 1 A ARG 97.320 1\\nATOM 376 N NE . ARG 47 47 ? A 4.91076 -10.45750 -3.38701 1 1 A ARG 97.320 1\\nATOM 377 C CZ . ARG 47 47 ? A 4.57913 -10.73230 -4.64540 1 1 A ARG 97.320 1\\nATOM 378 N NH1 . ARG 47 47 ? A 3.70530 -9.97115 -5.28371 1 1 A ARG 97.320 1\\nATOM 379 N NH2 . ARG 47 47 ? A 5.13086 -11.76440 -5.26002 1 1 A ARG 97.320 1\\nATOM 380 N N . SER 48 48 ? A 2.68337 -12.59127 1.70252 1 1 A SER 97.663 1\\nATOM 381 C CA . SER 48 48 ? A 2.69024 -13.88178 2.37976 1 1 A SER 97.663 1\\nATOM 382 C C . SER 48 48 ? A 1.32250 -14.21792 2.96315 1 1 A SER 97.663 1\\nATOM 383 O O . SER 48 48 ? A 1.01020 -15.39342 3.17238 1 1 A SER 97.663 1\\nATOM 384 C CB . SER 48 48 ? A 3.75594 -13.91619 3.47788 1 1 A SER 97.663 1\\nATOM 385 O OG . SER 48 48 ? A 3.34360 -13.22769 4.64459 1 1 A SER 97.663 1\\nATOM 386 N N . LEU 49 49 ? A 0.51225 -13.19783 3.22200 1 1 A LEU 95.872 1\\nATOM 387 C CA . LEU 49 49 ? A -0.84078 -13.39238 3.71924 1 1 A LEU 95.872 1\\nATOM 388 C C . LEU 49 49 ? A -1.84263 -13.65717 2.60662 1 1 A LEU 95.872 1\\nATOM 389 O O . LEU 49 49 ? A -3.01201 -13.92879 2.89043 1 1 A LEU 95.872 1\\nATOM 390 C CB . LEU 49 49 ? A -1.29778 -12.17241 4.52516 1 1 A LEU 95.872 1\\nATOM 391 C CG . LEU 49 49 ? A -0.55555 -11.88795 5.82442 1 1 A LEU 95.872 1\\nATOM 392 C CD1 . LEU 49 49 ? A -1.07327 -10.59876 6.45175 1 1 A LEU 95.872 1\\nATOM 393 C CD2 . LEU 49 49 ? A -0.69525 -13.05920 6.78679 1 1 A LEU 95.872 1\\nATOM 394 N N . GLY 50 50 ? A -1.42178 -13.55617 1.35876 1 1 A GLY 96.066 1\\nATOM 395 C CA . GLY 50 50 ? A -2.28709 -13.84641 0.24027 1 1 A GLY 96.066 1\\nATOM 396 C C . GLY 50 50 ? A -2.74944 -12.65199 -0.55824 1 1 A GLY 96.066 1\\nATOM 397 O O . GLY 50 50 ? A -3.48539 -12.82063 -1.53522 1 1 A GLY 96.066 1\\nATOM 398 N N . TYR 51 51 ? A -2.35990 -11.43996 -0.17374 1 1 A TYR 96.875 1\\nATOM 399 C CA . TYR 51 51 ? A -2.71059 -10.27424 -0.96813 1 1 A TYR 96.875 1\\nATOM 400 C C . TYR 51 51 ? A -1.97057 -10.32955 -2.29723 1 1 A TYR 96.875 1\\nATOM 401 O O . TYR 51 51 ? A -0.76711 -10.59458 -2.34915 1 1 A TYR 96.875 1\\nATOM 402 C CB . TYR 51 51 ? A -2.36277 -8.98147 -0.23419 1 1 A TYR 96.875 1\\nATOM 403 C CG . TYR 51 51 ? A -3.29772 -8.68703 0.91512 1 1 A TYR 96.875 1\\nATOM 404 C CD1 . TYR 51 51 ? A -4.45549 -7.95395 0.70565 1 1 A TYR 96.875 1\\nATOM 405 C CD2 . TYR 51 51 ? A -3.02332 -9.14596 2.19349 1 1 A TYR 96.875 1\\nATOM 406 C CE1 . TYR 51 51 ? A -5.32202 -7.68000 1.74997 1 1 A TYR 96.875 1\\nATOM 407 C CE2 . TYR 51 51 ? A -3.88419 -8.87933 3.24513 1 1 A TYR 96.875 1\\nATOM 408 C CZ . TYR 51 51 ? A -5.03454 -8.14696 3.01767 1 1 A TYR 96.875 1\\nATOM 409 O OH . TYR 51 51 ? A -5.88881 -7.87585 4.05723 1 1 A TYR 96.875 1\\nATOM 410 N N . ASN 52 52 ? A -2.70122 -10.07456 -3.37073 1 1 A ASN 95.305 1\\nATOM 411 C CA . ASN 52 52 ? A -2.13322 -10.15974 -4.70828 1 1 A ASN 95.305 1\\nATOM 412 C C . ASN 52 52 ? A -1.51194 -8.81916 -5.08095 1 1 A ASN 95.305 1\\nATOM 413 O O . ASN 52 52 ? A -2.04262 -8.07105 -5.90759 1 1 A ASN 95.305 1\\nATOM 414 C CB . ASN 52 52 ? A -3.20051 -10.57879 -5.71527 1 1 A ASN 95.305 1\\nATOM 415 C CG . ASN 52 52 ? A -2.62200 -10.92115 -7.07265 1 1 A ASN 95.305 1\\nATOM 416 O OD1 . ASN 52 52 ? A -1.40330 -11.03895 -7.23547 1 1 A ASN 95.305 1\\nATOM 417 N ND2 . ASN 52 52 ? A -3.49058 -11.08265 -8.06077 1 1 A ASN 95.305 1\\nATOM 418 N N . ILE 53 53 ? A -0.39452 -8.50115 -4.44960 1 1 A ILE 97.917 1\\nATOM 419 C CA . ILE 53 53 ? A 0.32478 -7.25700 -4.68086 1 1 A ILE 97.917 1\\nATOM 420 C C . ILE 53 53 ? A 1.47594 -7.55267 -5.62809 1 1 A ILE 97.917 1\\nATOM 421 O O . ILE 53 53 ? A 2.34082 -8.37980 -5.33206 1 1 A ILE 97.917 1\\nATOM 422 C CB . ILE 53 53 ? A 0.84744 -6.64973 -3.36579 1 1 A ILE 97.917 1\\nATOM 423 C CG1 . ILE 53 53 ? A -0.32792 -6.32571 -2.43460 1 1 A ILE 97.917 1\\nATOM 424 C CG2 . ILE 53 53 ? A 1.67089 -5.39713 -3.65880 1 1 A ILE 97.917 1\\nATOM 425 C CD1 . ILE 53 53 ? A 0.09366 -5.88939 -1.04725 1 1 A ILE 97.917 1\\nATOM 426 N N . VAL 54 54 ? A 1.47018 -6.88676 -6.76981 1 1 A VAL 96.102 1\\nATOM 427 C CA . VAL 54 54 ? A 2.43854 -7.12017 -7.82805 1 1 A VAL 96.102 1\\nATOM 428 C C . VAL 54 54 ? A 3.39225 -5.94175 -7.89631 1 1 A VAL 96.102 1\\nATOM 429 O O . VAL 54 54 ? A 2.96988 -4.78863 -7.93927 1 1 A VAL 96.102 1\\nATOM 430 C CB . VAL 54 54 ? A 1.73597 -7.31012 -9.18693 1 1 A VAL 96.102 1\\nATOM 431 C CG1 . VAL 54 54 ? A 2.75817 -7.52857 -10.29778 1 1 A VAL 96.102 1\\nATOM 432 C CG2 . VAL 54 54 ? A 0.74819 -8.47080 -9.10890 1 1 A VAL 96.102 1\\nATOM 433 N N . ALA 55 55 ? A 4.68371 -6.23241 -7.89398 1 1 A ALA 95.232 1\\nATOM 434 C CA . ALA 55 55 ? A 5.69664 -5.20458 -8.06527 1 1 A ALA 95.232 1\\nATOM 435 C C . ALA 55 55 ? A 5.95541 -5.00178 -9.55055 1 1 A ALA 95.232 1\\nATOM 436 O O . ALA 55 55 ? A 6.25167 -5.95626 -10.27180 1 1 A ALA 95.232 1\\nATOM 437 C CB . ALA 55 55 ? A 6.98784 -5.59398 -7.35610 1 1 A ALA 95.232 1\\nATOM 438 N N . THR 56 56 ? A 5.82236 -3.77318 -10.00206 1 1 A THR 95.369 1\\nATOM 439 C CA . THR 56 56 ? A 6.07328 -3.40305 -11.38645 1 1 A THR 95.369 1\\nATOM 440 C C . THR 56 56 ? A 7.19013 -2.36706 -11.40821 1 1 A THR 95.369 1\\nATOM 441 O O . THR 56 56 ? A 7.54808 -1.80715 -10.36919 1 1 A THR 95.369 1\\nATOM 442 C CB . THR 56 56 ? A 4.81688 -2.80497 -12.04289 1 1 A THR 95.369 1\\nATOM 443 O OG1 . THR 56 56 ? A 4.63314 -1.46253 -11.56468 1 1 A THR 95.369 1\\nATOM 444 C CG2 . THR 56 56 ? A 3.58342 -3.63135 -11.72127 1 1 A THR 95.369 1\\nATOM 445 N N . PRO 57 57 ? A 7.74864 -2.09240 -12.58365 1 1 A PRO 96.617 1\\nATOM 446 C CA . PRO 57 57 ? A 8.76440 -1.03435 -12.63577 1 1 A PRO 96.617 1\\nATOM 447 C C . PRO 57 57 ? A 8.27745 0.30846 -12.10711 1 1 A PRO 96.617 1\\nATOM 448 O O . PRO 57 57 ? A 9.08708 1.10647 -11.62431 1 1 A PRO 96.617 1\\nATOM 449 C CB . PRO 57 57 ? A 9.09653 -0.95968 -14.13087 1 1 A PRO 96.617 1\\nATOM 450 C CG . PRO 57 57 ? A 8.85537 -2.34711 -14.61997 1 1 A PRO 96.617 1\\nATOM 451 C CD . PRO 57 57 ? A 7.62808 -2.80021 -13.86998 1 1 A PRO 96.617 1\\nATOM 452 N N . ARG 58 58 ? A 6.97243 0.58684 -12.19296 1 1 A ARG 95.979 1\\nATOM 453 C CA . ARG 58 58 ? A 6.41649 1.85428 -11.73559 1 1 A ARG 95.979 1\\nATOM 454 C C . ARG 58 58 ? A 5.98655 1.82874 -10.27216 1 1 A ARG 95.979 1\\nATOM 455 O O . ARG 58 58 ? A 5.76226 2.88887 -9.68608 1 1 A ARG 95.979 1\\nATOM 456 C CB . ARG 58 58 ? A 5.23037 2.24977 -12.61064 1 1 A ARG 95.979 1\\nATOM 457 C CG . ARG 58 58 ? A 5.59894 2.52046 -14.06058 1 1 A ARG 95.979 1\\nATOM 458 C CD . ARG 58 58 ? A 4.36754 2.77045 -14.90543 1 1 A ARG 95.979 1\\nATOM 459 N NE . ARG 58 58 ? A 3.57616 3.88486 -14.39373 1 1 A ARG 95.979 1\\nATOM 460 C CZ . ARG 58 58 ? A 2.27739 4.05541 -14.61634 1 1 A ARG 95.979 1\\nATOM 461 N NH1 . ARG 58 58 ? A 1.60591 3.17922 -15.34547 1 1 A ARG 95.979 1\\nATOM 462 N NH2 . ARG 58 58 ? A 1.65927 5.12237 -14.11146 1 1 A ARG 95.979 1\\nATOM 463 N N . GLY 59 59 ? A 5.84762 0.64335 -9.66985 1 1 A GLY 98.147 1\\nATOM 464 C CA . GLY 59 59 ? A 5.41209 0.56673 -8.29599 1 1 A GLY 98.147 1\\nATOM 465 C C . GLY 59 59 ? A 4.53214 -0.63858 -8.05174 1 1 A GLY 98.147 1\\nATOM 466 O O . GLY 59 59 ? A 4.51064 -1.58519 -8.84010 1 1 A GLY 98.147 1\\nATOM 467 N N . TYR 60 60 ? A 3.79582 -0.59765 -6.96288 1 1 A TYR 98.446 1\\nATOM 468 C CA . TYR 60 60 ? A 2.96363 -1.70949 -6.53589 1 1 A TYR 98.446 1\\nATOM 469 C C . TYR 60 60 ? A 1.53678 -1.55449 -7.02827 1 1 A TYR 98.446 1\\nATOM 470 O O . TYR 60 60 ? A 0.99665 -0.45272 -7.08276 1 1 A TYR 98.446 1\\nATOM 471 C CB . TYR 60 60 ? A 2.95217 -1.82180 -5.01072 1 1 A TYR 98.446 1\\nATOM 472 C CG . TYR 60 60 ? A 4.31500 -2.06604 -4.40860 1 1 A TYR 98.446 1\\nATOM 473 C CD1 . TYR 60 60 ? A 4.91543 -3.31502 -4.47613 1 1 A TYR 98.446 1\\nATOM 474 C CD2 . TYR 60 60 ? A 5.00032 -1.03866 -3.76983 1 1 A TYR 98.446 1\\nATOM 475 C CE1 . TYR 60 60 ? A 6.16419 -3.54325 -3.92121 1 1 A TYR 98.446 1\\nATOM 476 C CE2 . TYR 60 60 ? A 6.25210 -1.25471 -3.21220 1 1 A TYR 98.446 1\\nATOM 477 C CZ . TYR 60 60 ? A 6.82688 -2.50530 -3.29228 1 1 A TYR 98.446 1\\nATOM 478 O OH . TYR 60 60 ? A 8.06476 -2.72426 -2.74363 1 1 A TYR 98.446 1\\nATOM 479 N N . VAL 61 61 ? A 0.95746 -2.73252 -7.36835 1 1 A VAL 95.676 1\\nATOM 480 C CA . VAL 61 61 ? A -0.42478 -2.79126 -7.80407 1 1 A VAL 95.676 1\\nATOM 481 C C . VAL 61 61 ? A -1.09982 -3.90025 -7.02162 1 1 A VAL 95.676 1\\nATOM 482 O O . VAL 61 61 ? A -0.55123 -4.98438 -6.88024 1 1 A VAL 95.676 1\\nATOM 483 C CB . VAL 61 61 ? A -0.51845 -3.10254 -9.31318 1 1 A VAL 95.676 1\\nATOM 484 C CG1 . VAL 61 61 ? A -1.97788 -3.28275 -9.73084 1 1 A VAL 95.676 1\\nATOM 485 C CG2 . VAL 61 61 ? A 0.15267 -2.00710 -10.12860 1 1 A VAL 95.676 1\\nATOM 486 N N . LEU 62 62 ? A -2.29942 -3.63722 -6.52223 1 1 A LEU 95.750 1\\nATOM 487 C CA . LEU 62 62 ? A -3.10529 -4.66487 -5.87791 1 1 A LEU 95.750 1\\nATOM 488 C C . LEU 62 62 ? A -4.11019 -5.18365 -6.88713 1 1 A LEU 95.750 1\\nATOM 489 O O . LEU 62 62 ? A -4.95389 -4.43267 -7.36649 1 1 A LEU 95.750 1\\nATOM 490 C CB . LEU 62 62 ? A -3.81988 -4.10061 -4.65345 1 1 A LEU 95.750 1\\nATOM 491 C CG . LEU 62 62 ? A -4.74939 -5.05560 -3.90658 1 1 A LEU 95.750 1\\nATOM 492 C CD1 . LEU 62 62 ? A -3.97707 -6.24349 -3.35387 1 1 A LEU 95.750 1\\nATOM 493 C CD2 . LEU 62 62 ? A -5.46025 -4.31217 -2.78372 1 1 A LEU 95.750 1\\nATOM 494 N N . ALA 63 63 ? A -4.02157 -6.46566 -7.20872 1 1 A ALA 86.427 1\\nATOM 495 C CA . ALA 63 63 ? A -4.89936 -7.09272 -8.18194 1 1 A ALA 86.427 1\\nATOM 496 C C . ALA 63 63 ? A -5.87033 -8.02342 -7.47349 1 1 A ALA 86.427 1\\nATOM 497 O O . ALA 63 63 ? A -5.49544 -8.74580 -6.55384 1 1 A ALA 86.427 1\\nATOM 498 C CB . ALA 63 63 ? A -4.08758 -7.86652 -9.21043 1 1 A ALA 86.427 1\\nATOM 499 N N . GLY 64 64 ? A -7.12508 -7.96453 -7.89993 1 1 A GLY 74.161 1\\nATOM 500 C CA . GLY 64 64 ? A -8.12005 -8.88499 -7.38668 1 1 A GLY 74.161 1\\nATOM 501 C C . GLY 64 64 ? A -8.78341 -8.47684 -6.09306 1 1 A GLY 74.161 1\\nATOM 502 O O . GLY 64 64 ? A -9.49618 -9.28377 -5.49739 1 1 A GLY 74.161 1\\nATOM 503 N N . GLY 65 65 ? A -8.57784 -7.24608 -5.68312 1 1 A GLY 52.691 1\\nATOM 504 C CA . GLY 65 65 ? A -9.21513 -6.75051 -4.45944 1 1 A GLY 52.691 1\\nATOM 505 C C . GLY 65 65 ? A -8.64019 -7.33807 -3.20644 1 1 A GLY 52.691 1\\nATOM 506 O O . GLY 65 65 ? A -9.32942 -7.48264 -2.19694 1 1 A GLY 52.691 1\\n#\\n#\\nloop_\\n_atom_type.symbol\\nC\\nN\\nO\\nS\\n#\\n#\\nloop_\\n_ma_qa_metric.id\\n_ma_qa_metric.name\\n_ma_qa_metric.description\\n_ma_qa_metric.type\\n_ma_qa_metric.mode\\n_ma_qa_metric.type_other_details\\n_ma_qa_metric.software_group_id\\n1 pLDDT 'Predicted lddt' pLDDT local . .\\n#\\n#\\nloop_\\n_ma_qa_metric_local.ordinal_id\\n_ma_qa_metric_local.model_id\\n_ma_qa_metric_local.label_asym_id\\n_ma_qa_metric_local.label_seq_id\\n_ma_qa_metric_local.label_comp_id\\n_ma_qa_metric_local.metric_id\\n_ma_qa_metric_local.metric_value\\n1 1 A 1 MET 1 73.448\\n2 1 A 2 LYS 1 79.451\\n3 1 A 3 THR 1 89.592\\n4 1 A 4 VAL 1 91.362\\n5 1 A 5 ARG 1 92.647\\n6 1 A 6 GLN 1 94.829\\n7 1 A 7 GLU 1 95.769\\n8 1 A 8 ARG 1 96.971\\n9 1 A 9 LEU 1 98.347\\n10 1 A 10 LYS 1 96.823\\n11 1 A 11 SER 1 98.225\\n12 1 A 12 ILE 1 98.653\\n13 1 A 13 VAL 1 97.556\\n14 1 A 14 ARG 1 97.639\\n15 1 A 15 ILE 1 98.418\\n16 1 A 16 LEU 1 98.254\\n17 1 A 17 GLU 1 95.668\\n18 1 A 18 ARG 1 94.326\\n19 1 A 19 SER 1 95.571\\n20 1 A 20 LYS 1 88.617\\n21 1 A 21 GLU 1 95.037\\n22 1 A 22 PRO 1 97.396\\n23 1 A 23 VAL 1 98.392\\n24 1 A 24 SER 1 98.094\\n25 1 A 25 GLY 1 98.347\\n26 1 A 26 ALA 1 97.872\\n27 1 A 27 GLN 1 98.082\\n28 1 A 28 LEU 1 98.707\\n29 1 A 29 ALA 1 98.705\\n30 1 A 30 GLU 1 98.403\\n31 1 A 31 GLU 1 97.395\\n32 1 A 32 LEU 1 98.305\\n33 1 A 33 SER 1 97.321\\n34 1 A 34 VAL 1 98.085\\n35 1 A 35 SER 1 98.537\\n36 1 A 36 ARG 1 97.113\\n37 1 A 37 GLN 1 98.495\\n38 1 A 38 VAL 1 98.064\\n39 1 A 39 ILE 1 98.441\\n40 1 A 40 VAL 1 97.443\\n41 1 A 41 GLN 1 97.977\\n42 1 A 42 ASP 1 98.557\\n43 1 A 43 ILE 1 98.462\\n44 1 A 44 ALA 1 98.163\\n45 1 A 45 TYR 1 97.847\\n46 1 A 46 LEU 1 98.168\\n47 1 A 47 ARG 1 97.320\\n48 1 A 48 SER 1 97.663\\n49 1 A 49 LEU 1 95.872\\n50 1 A 50 GLY 1 96.066\\n51 1 A 51 TYR 1 96.875\\n52 1 A 52 ASN 1 95.305\\n53 1 A 53 ILE 1 97.917\\n54 1 A 54 VAL 1 96.102\\n55 1 A 55 ALA 1 95.232\\n56 1 A 56 THR 1 95.369\\n57 1 A 57 PRO 1 96.617\\n58 1 A 58 ARG 1 95.979\\n59 1 A 59 GLY 1 98.147\\n60 1 A 60 TYR 1 98.446\\n61 1 A 61 VAL 1 95.676\\n62 1 A 62 LEU 1 95.750\\n63 1 A 63 ALA 1 86.427\\n64 1 A 64 GLY 1 74.161\\n65 1 A 65 GLY 1 52.691\\n#\\n\", name='', source='Py0Ify_model_0.cif')], confidence_scores=[0.9414734840393066], metrics={}, affinities={}, ptm_scores=[0.9060187935829163], iptm_scores=[0.0], ligand_iptm_scores=[0.0], protein_iptm_scores=[0.0], complex_plddt_scores=[0.9503371119499207], complex_iplddt_scores=[0.9503371119499207], complex_pde_scores=[0.33106642961502075], complex_ipde_scores=[0.0], chains_ptm_scores=[0.9060187935829163], pair_chains_iptm_scores=[{'0': {'0': 0.9060187935829163}}])"
      ]
     },
     "execution_count": 10,
     "metadata": {},
     "output_type": "execute_result"
    }
   ],
   "source": [
    "# ONE-LINER: Predict protein structure (Jupyter notebook)\n",
    "result = await Boltz2Client().predict_protein_structure(sequence=\"MKTVRQERLKSIVRILERSKEPVSGAQLAEELSVSRQVIVQDIAYLRSLGYNIVATPRGYVLAGG\")\n",
    "\n",
    "# For synchronous usage (outside Jupyter - in regular Python scripts):\n",
    "# from boltz2_client import Boltz2SyncClient\n",
    "# result = Boltz2SyncClient().predict_protein_structure(sequence=\"...\")\n",
    "\n",
    "# TWO-LINER: Create client once, use multiple times\n",
    "client = Boltz2Client()\n",
    "result = await client.predict_protein_structure(sequence=\"MKTVRQERLKSIVRILERSKEPVSGAQLAEELSVSRQVIVQDIAYLRSLGYNIVATPRGYVLAGG\")\n",
    "\n",
    "# Save structure directly\n",
    "await client.predict_protein_structure(sequence=\"MKTVRQERLKSIVRILERSKEPVSGAQLAEELSVSRQVIVQDIAYLRSLGYNIVATPRGYVLAGG\", save_structures=True)\n"
   ]
  },
  {
   "cell_type": "markdown",
   "metadata": {
    "vscode": {
     "languageId": "raw"
    }
   },
   "source": [
    "### 1. Basic Protein Structure Prediction (3 Lines!)\n"
   ]
  },
  {
   "cell_type": "code",
   "execution_count": 11,
   "metadata": {},
   "outputs": [
    {
     "name": "stdout",
     "output_type": "stream",
     "text": [
      "Confidence: 0.940\n"
     ]
    }
   ],
   "source": [
    "# Minimal protein prediction (3 lines!)\n",
    "from boltz2_client import Boltz2Client\n",
    "\n",
    "client = Boltz2Client()\n",
    "result = await client.predict_protein_structure(sequence=\"MKTVRQERLKSIVRILERSKEPVSGAQLAEELSVSRQVIVQDIAYLRSLGYNIVATPRGYVLAGG\")\n",
    "print(f\"Confidence: {result.confidence_scores[0]:.3f}\")\n"
   ]
  },
  {
   "cell_type": "markdown",
   "metadata": {
    "vscode": {
     "languageId": "raw"
    }
   },
   "source": [
    "### 2. Protein-Ligand Complex (2 Lines!)\n"
   ]
  },
  {
   "cell_type": "code",
   "execution_count": 12,
   "metadata": {
    "scrolled": true
   },
   "outputs": [
    {
     "name": "stdout",
     "output_type": "stream",
     "text": [
      "Ligand complex confidence: 0.873\n"
     ]
    }
   ],
   "source": [
    "# Minimal protein-ligand complex (2 lines!)\n",
    "result = await client.predict_protein_ligand_complex(\n",
    "    protein_sequence=\"MKTVRQERLKSIVRILERSKEPVSGAQLAEELSVSRQVIVQDIAYLRSLGYNIVATPRGYVLAGG\",\n",
    "    ligand_smiles=\"CC(=O)OC1=CC=CC=C1C(=O)O\"  # Aspirin\n",
    ")\n",
    "print(f\"Ligand complex confidence: {result.confidence_scores[0]:.3f}\")\n"
   ]
  },
  {
   "cell_type": "markdown",
   "metadata": {},
   "source": [
    "### 3. More Minimal Examples\n"
   ]
  },
  {
   "cell_type": "code",
   "execution_count": 13,
   "metadata": {},
   "outputs": [
    {
     "name": "stdout",
     "output_type": "stream",
     "text": [
      "Covalent complex confidence: 0.847\n",
      "DNA-protein confidence: 0.872\n",
      "ℹ️ MSA example skipped - no MSA file found\n",
      "   To use MSA, provide path to your .a3m, .sto, .fasta, or .csv alignment file\n"
     ]
    }
   ],
   "source": [
    "# Covalent complex (using bond constraints)\n",
    "from boltz2_client import BondConstraint\n",
    "\n",
    "result = await client.predict_covalent_complex(\n",
    "    protein_sequence=\"MKTVRQERLKSCVRILERSKEPVSGAQLAEELSVSRQVIVQDIAYLRSLGYNIVATPRGYVLAGG\",\n",
    "    ligand_ccd=\"U4U\",\n",
    "    covalent_bonds=[(12, \"SG\", \"C22\")]  # (residue_number, protein_atom, ligand_atom)\n",
    ")\n",
    "print(f\"Covalent complex confidence: {result.confidence_scores[0]:.3f}\")\n",
    "\n",
    "# DNA-protein complex (one line!)\n",
    "result = await client.predict_dna_protein_complex(\n",
    "    protein_sequences=[\"MKTVRQERLKSIVRILERSKEPVSGAQLAEELSVSRQVIVQDIAYLRSLGYNIVATPRGYVLAGG\"],\n",
    "    dna_sequences=[\"ATCGATCGATCGATCG\"]\n",
    ")\n",
    "print(f\"DNA-protein confidence: {result.confidence_scores[0]:.3f}\")\n",
    "\n",
    "# With MSA guidance - only if you have an MSA file!\n",
    "# First check if example MSA file exists\n",
    "import os\n",
    "msa_path = \"boltz2-python-client/examples/msa-kras-g12c_combined.a3m\"\n",
    "if os.path.exists(msa_path):\n",
    "    result = await client.predict_protein_structure(\n",
    "        sequence=\"MKTVRQERLKSIVRILERSKEPVSGAQLAEELSVSRQVIVQDIAYLRSLGYNIVATPRGYVLAGG\",\n",
    "        msa_files=[(msa_path, \"a3m\")]\n",
    "    )\n",
    "    print(f\"MSA-guided confidence: {result.confidence_scores[0]:.3f}\")\n",
    "else:\n",
    "    print(\"ℹ️ MSA example skipped - no MSA file found\")\n",
    "    print(\"   To use MSA, provide path to your .a3m, .sto, .fasta, or .csv alignment file\")\n"
   ]
  },
  {
   "cell_type": "markdown",
   "metadata": {
    "vscode": {
     "languageId": "raw"
    }
   },
   "source": [
    "## ⚡ Raw API vs Client Comparison\n",
    "\n",
    "Here's a direct comparison showing the advantages of using the boltz2-python-client:\n"
   ]
  },
  {
   "cell_type": "markdown",
   "metadata": {
    "vscode": {
     "languageId": "raw"
    }
   },
   "source": [
    "### 🔴 Raw API Request (Complex & Error-Prone)\n"
   ]
  },
  {
   "cell_type": "code",
   "execution_count": 14,
   "metadata": {},
   "outputs": [
    {
     "name": "stdout",
     "output_type": "stream",
     "text": [
      "🔴 Raw API code shown above - complex with manual polling, error handling, etc.\n"
     ]
    }
   ],
   "source": [
    "import httpx\n",
    "import asyncio\n",
    "import json\n",
    "import time\n",
    "import os\n",
    "\n",
    "async def predict_protein_raw_api(sequence):\n",
    "    \"\"\"\n",
    "    Raw API approach - complex and error-prone!\n",
    "    \"\"\"\n",
    "    # Manual endpoint configuration\n",
    "    base_url = \"https://health.api.nvidia.com\"\n",
    "    api_key = os.getenv(\"NVIDIA_API_KEY\")\n",
    "    \n",
    "    if not api_key:\n",
    "        print(\"❌ API key required\")\n",
    "        return None\n",
    "    \n",
    "    # Manual header construction\n",
    "    headers = {\n",
    "        \"Authorization\": f\"Bearer {api_key}\",\n",
    "        \"Content-Type\": \"application/json\",\n",
    "        \"NVCF-POLL-SECONDS\": \"10\"\n",
    "    }\n",
    "    \n",
    "    # Manual payload construction\n",
    "    payload = {\n",
    "        \"polymers\": [{\n",
    "            \"id\": \"A\",\n",
    "            \"molecule_type\": \"protein\", \n",
    "            \"sequence\": sequence\n",
    "        }],\n",
    "        \"recycling_steps\": 1,\n",
    "        \"sampling_steps\": 10\n",
    "    }\n",
    "    \n",
    "    print(\"🔴 Raw API: Making request...\")\n",
    "    \n",
    "    try:\n",
    "        async with httpx.AsyncClient(timeout=300.0) as client:\n",
    "            # Initial request\n",
    "            response = await client.post(\n",
    "                f\"{base_url}/v1/biology/mit/boltz2/predict\",\n",
    "                json=payload,\n",
    "                headers=headers\n",
    "            )\n",
    "            \n",
    "            # Manual 202 handling for NVIDIA endpoints\n",
    "            if response.status_code == 202:\n",
    "                print(\"🔴 Raw API: Got 202, handling polling manually...\")\n",
    "                \n",
    "                # Extract task ID\n",
    "                task_id = response.headers.get(\"nvcf-reqid\")\n",
    "                if not task_id:\n",
    "                    raise Exception(\"No task ID in 202 response\")\n",
    "                \n",
    "                # Manual polling loop\n",
    "                poll_url = f\"https://api.nvcf.nvidia.com/v2/nvcf/pexec/status/{task_id}\"\n",
    "                \n",
    "                max_attempts = 30\n",
    "                for attempt in range(max_attempts):\n",
    "                    print(f\"🔴 Raw API: Polling attempt {attempt + 1}/{max_attempts}...\")\n",
    "                    await asyncio.sleep(10)  # Fixed polling interval\n",
    "                    \n",
    "                    status_response = await client.get(poll_url, headers=headers)\n",
    "                    \n",
    "                    if status_response.status_code == 200:\n",
    "                        print(\"🔴 Raw API: Task completed!\")\n",
    "                        response = status_response\n",
    "                        break\n",
    "                    elif status_response.status_code in [400, 401, 404, 422, 500]:\n",
    "                        raise Exception(f\"Task failed: {status_response.status_code} - {status_response.text}\")\n",
    "                    \n",
    "                    # Continue polling for other status codes\n",
    "                else:\n",
    "                    raise Exception(\"Polling timeout - task did not complete\")\n",
    "            \n",
    "            elif response.status_code != 200:\n",
    "                raise Exception(f\"Request failed: {response.status_code} - {response.text}\")\n",
    "            \n",
    "            # Manual response parsing\n",
    "            data = response.json()\n",
    "            \n",
    "            # Extract confidence (manual parsing)\n",
    "            confidence = None\n",
    "            if \"confidence_scores\" in data and data[\"confidence_scores\"]:\n",
    "                confidence = data[\"confidence_scores\"][0]\n",
    "            \n",
    "            print(f\"🔴 Raw API: Success! Confidence: {confidence:.3f}\")\n",
    "            return data\n",
    "            \n",
    "    except Exception as e:\n",
    "        print(f\"🔴 Raw API: Error - {e}\")\n",
    "        return None\n",
    "\n",
    "# Example usage (commented out to avoid actual API calls)\n",
    "# sequence = \"MKTVRQERLKSIVRILERSKEPVSGAQLAEELSVSRQVIVQDIAYLRSLGYNIVATPRGYVLAGG\"\n",
    "# result = await predict_protein_raw_api(sequence)\n",
    "\n",
    "print(\"🔴 Raw API code shown above - complex with manual polling, error handling, etc.\")\n"
   ]
  },
  {
   "cell_type": "markdown",
   "metadata": {
    "vscode": {
     "languageId": "raw"
    }
   },
   "source": [
    "### 🟢 boltz2-python-client (Simple & Robust)\n"
   ]
  },
  {
   "cell_type": "code",
   "execution_count": 15,
   "metadata": {},
   "outputs": [
    {
     "name": "stdout",
     "output_type": "stream",
     "text": [
      "🟢 Success! Confidence: 0.941\n"
     ]
    }
   ],
   "source": [
    "# boltz2-python-client: ALL complexity handled automatically! (2 lines)\n",
    "result = await client.predict_protein_structure(sequence=\"MKTVRQERLKSIVRILERSKEPVSGAQLAEELSVSRQVIVQDIAYLRSLGYNIVATPRGYVLAGG\")\n",
    "print(f\"🟢 Success! Confidence: {result.confidence_scores[0]:.3f}\")\n",
    "\n",
    "# That's it! \n",
    "# ✅ Automatic polling for NVIDIA endpoints\n",
    "# ✅ Automatic error handling and retries  \n",
    "# ✅ Automatic response parsing\n",
    "# ✅ Type-safe with full IDE support\n"
   ]
  },
  {
   "cell_type": "code",
   "execution_count": 16,
   "metadata": {},
   "outputs": [
    {
     "name": "stdout",
     "output_type": "stream",
     "text": [
      "Confidence: 0.941\n"
     ]
    }
   ],
   "source": [
    "from boltz2_client import Boltz2Client\n",
    "\n",
    "client = Boltz2Client()\n",
    "result = await client.predict_protein_structure(\n",
    "    sequence=\"MKTVRQERLKSIVRILERSKEPVSGAQLAEELSVSRQVIVQDIAYLRSLGYNIVATPRGYVLAGG\" \n",
    ")\n",
    "print(f\"Confidence: {result.confidence_scores[0]:.3f}\")"
   ]
  },
  {
   "cell_type": "markdown",
   "metadata": {
    "vscode": {
     "languageId": "raw"
    }
   },
   "source": [
    "## 📊 Key Advantages Summary\n",
    "\n",
    "| Feature | Raw API | boltz2-python-client |\n",
    "|---------|---------|----------------------|\n",
    "| **Lines of code** | ~80+ lines | **1-3 lines!** |\n",
    "| **Error handling** | Manual try/catch | **Automatic with retries** |\n",
    "| **Rate limiting** | Manual delays | **Built-in protection** |\n",
    "| **NVIDIA polling** | Manual 202 handling | **Automatic polling** |\n",
    "| **Response parsing** | Manual JSON parsing | **Pydantic models** |\n",
    "| **Type safety** | None | **Full type hints** |\n",
    "| **Progress tracking** | None | **Rich progress bars** |\n",
    "| **File handling** | Manual save/load | **Automatic CIF output** |\n",
    "| **Configuration** | Manual payload building | **YAML + Python objects** |\n",
    "| **CLI interface** | None | **Rich CLI with colors** |\n",
    "\n",
    "### 🎯 The client transforms:\n",
    "- **80+ lines of complex code** → **1-3 lines of simple code**\n",
    "- **Manual error handling** → **Automatic retries and graceful failures**\n",
    "- **Raw JSON responses** → **Typed Python objects**\n",
    "- **No progress feedback** → **Rich progress bars and status updates**\n",
    "\n",
    "\n",
    "### 🚀 Minimal Examples Shown:\n",
    "- **Basic prediction**: 3 lines (or 1 line!)\n",
    "- **Protein-ligand**: 2 lines\n",
    "- **Synchronous (no async)**: 1 line with `Boltz2SyncClient`\n",
    "- **Any complex**: Usually just 1-2 lines!\n"
   ]
  },
  {
   "cell_type": "markdown",
   "metadata": {
    "vscode": {
     "languageId": "raw"
    }
   },
   "source": [
    "## 🎉 Conclusion\n",
    "\n",
    "The **boltz2-python-client** package provides:\n",
    "\n",
    "✅ **Simplified API** - Complex predictions in just a few lines  \n",
    "✅ **Production-ready** - Built-in error handling, retries, and rate limiting  \n",
    "✅ **Rich CLI** - Beautiful command-line interface with progress bars  \n",
    "✅ **Type safety** - Full Pydantic model validation  \n",
    "✅ **Flexible endpoints** - Seamless local ↔ NVIDIA hosted switching  \n",
    "✅ **Advanced features** - Batch processing, MSA support, covalent complexes  \n",
    "\n",
    "### 📦 Installation:\n",
    "```bash\n",
    "pip install boltz2-python-client\n",
    "```\n",
    "\n",
    "### 📚 Documentation:\n",
    "- README.md - Getting started guide\n",
    "- YAML_GUIDE.md - YAML configuration reference  \n",
    "- ASYNC_GUIDE.md - Async programming patterns\n",
    "- COVALENT_COMPLEX_GUIDE.md - Covalent bonding examples\n",
    "- PARAMETERS.md - Complete parameter reference\n",
    "\n",
    "**Transform complex protein structure prediction into simple, reliable Python code!** 🧬✨\n"
   ]
  },
  {
   "cell_type": "code",
   "execution_count": null,
   "metadata": {},
   "outputs": [],
   "source": []
  }
 ],
 "metadata": {
  "kernelspec": {
   "display_name": "Python 3 (ipykernel)",
   "language": "python",
   "name": "python3"
  },
  "language_info": {
   "codemirror_mode": {
    "name": "ipython",
    "version": 3
   },
   "file_extension": ".py",
   "mimetype": "text/x-python",
   "name": "python",
   "nbconvert_exporter": "python",
   "pygments_lexer": "ipython3",
   "version": "3.10.14"
  }
 },
 "nbformat": 4,
 "nbformat_minor": 4
}
